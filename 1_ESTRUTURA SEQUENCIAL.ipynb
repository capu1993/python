{
  "nbformat": 4,
  "nbformat_minor": 0,
  "metadata": {
    "colab": {
      "name": "Exercício estrutura sequencial.ipynb",
      "provenance": [],
      "collapsed_sections": []
    },
    "kernelspec": {
      "name": "python3",
      "display_name": "Python 3"
    },
    "language_info": {
      "name": "python"
    }
  },
  "cells": [
    {
      "cell_type": "markdown",
      "source": [
        "##Exercício de estrutura sequencial - Python"
      ],
      "metadata": {
        "id": "G1SoRGU74Yqt"
      }
    },
    {
      "cell_type": "code",
      "source": [
        ""
      ],
      "metadata": {
        "id": "OZ1c2OHt4rYU"
      },
      "execution_count": null,
      "outputs": []
    },
    {
      "cell_type": "code",
      "source": [
        ""
      ],
      "metadata": {
        "id": "eFRwRSTG4rA4"
      },
      "execution_count": null,
      "outputs": []
    },
    {
      "cell_type": "markdown",
      "source": [
        "# OBSERVAÇÃO\n",
        "\n",
        "Substitua a vírgula por ponto, visto que a python entrepeta ponto como vírgula."
      ],
      "metadata": {
        "id": "02agoIzAa8pp"
      }
    },
    {
      "cell_type": "markdown",
      "source": [
        "# 1- Faça um Programa que mostre a mensagem \"Alo mundo\" na tela."
      ],
      "metadata": {
        "id": "3isEGRovQlfQ"
      }
    },
    {
      "cell_type": "code",
      "source": [
        "print(\"Helo mundo!\")"
      ],
      "metadata": {
        "colab": {
          "base_uri": "https://localhost:8080/"
        },
        "id": "g9QefacKREyD",
        "outputId": "f597cac1-2940-43a6-992f-072c5bbfffb9"
      },
      "execution_count": 41,
      "outputs": [
        {
          "output_type": "stream",
          "name": "stdout",
          "text": [
            "Helo mundo\n"
          ]
        }
      ]
    },
    {
      "cell_type": "markdown",
      "source": [
        "# 2- Faça um Programa que peça um número e então mostre a mensagem O número informado foi [número]."
      ],
      "metadata": {
        "id": "c1GptBZ3QuYM"
      }
    },
    {
      "cell_type": "code",
      "source": [
        "a = int(input(\"Informe o primeiro numero: \"))\n",
        "\n",
        "print(\"     \")\n",
        "\n",
        "print(\"O numero informado foi\" + \" \" + str(a))"
      ],
      "metadata": {
        "colab": {
          "base_uri": "https://localhost:8080/"
        },
        "id": "TQa2SxVTg9S6",
        "outputId": "e2f56bd9-7fef-474d-a024-d5d2a57561f8"
      },
      "execution_count": 42,
      "outputs": [
        {
          "output_type": "stream",
          "name": "stdout",
          "text": [
            "Informe o primeiro numero: 10\n",
            "     \n",
            "O numero informado foi 10\n"
          ]
        }
      ]
    },
    {
      "cell_type": "code",
      "source": [
        ""
      ],
      "metadata": {
        "id": "y1HyrXk8iV0K"
      },
      "execution_count": 42,
      "outputs": []
    },
    {
      "cell_type": "markdown",
      "source": [
        "# 3- Faça um Programa que peça dois números e imprima a soma."
      ],
      "metadata": {
        "id": "Ac3QtyQDQ1-D"
      }
    },
    {
      "cell_type": "code",
      "source": [
        "\n",
        "a = int(input(\"Informe o primeiro numero: \"))\n",
        "\n",
        "b = int(input(\"Informe o segundo numero: \"))\n",
        "\n",
        "print(\"     \")\n",
        "\n",
        "print(\"A soma dos números informados foi\" +\" \" + str(a+b))"
      ],
      "metadata": {
        "colab": {
          "base_uri": "https://localhost:8080/"
        },
        "id": "JwTXkp11g9YQ",
        "outputId": "57228ed5-d5cb-4c4d-afdf-980e52cd3383"
      },
      "execution_count": 43,
      "outputs": [
        {
          "output_type": "stream",
          "name": "stdout",
          "text": [
            "Informe o primeiro numero: 4\n",
            "Informe o segundo numero: 4\n",
            "     \n",
            "A soma dos números informados foi 8\n"
          ]
        }
      ]
    },
    {
      "cell_type": "code",
      "source": [
        ""
      ],
      "metadata": {
        "id": "yqMXyw2TSTm4"
      },
      "execution_count": 43,
      "outputs": []
    },
    {
      "cell_type": "markdown",
      "source": [
        "# 4- Faça um Programa que peça as 4 notas bimestrais e mostre a média."
      ],
      "metadata": {
        "id": "tfpLuQosRzOk"
      }
    },
    {
      "cell_type": "code",
      "source": [
        "a = float(input(\"Informe a primeira nota: \"))\n",
        "b = float(input(\"Informe a segunda nota: \"))\n",
        "c = float(input(\"Informe a terceira nota: \"))\n",
        "d = float(input(\"Informe a quarta nota: \"))\n",
        "\n",
        "print(\"     \")\n",
        "\n",
        "print(\"A média dos números informados é \"+ \"\" + str((a+b+c+d)/4)+ \" valores.\")"
      ],
      "metadata": {
        "colab": {
          "base_uri": "https://localhost:8080/"
        },
        "id": "xMX0f_nLgPUL",
        "outputId": "c8292a63-b2a0-4b29-d9c9-00f492345182"
      },
      "execution_count": 39,
      "outputs": [
        {
          "output_type": "stream",
          "name": "stdout",
          "text": [
            "Informe a primeira nota: 8\n",
            "Informe a segunda nota: 7\n",
            "Informe a terceira nota: 9\n",
            "Informe a quarta nota: 7\n",
            "     \n",
            "A média dos números informados é 7.75 valores.\n"
          ]
        }
      ]
    },
    {
      "cell_type": "code",
      "source": [
        ""
      ],
      "metadata": {
        "id": "0fOS-dGQgO-F"
      },
      "execution_count": 44,
      "outputs": []
    },
    {
      "cell_type": "markdown",
      "source": [
        "# 5- Faça um Programa que converta metros para centímetros."
      ],
      "metadata": {
        "id": "kXG6qbOmS-_B"
      }
    },
    {
      "cell_type": "code",
      "source": [
        "a = float(input(\"Informe o valor em metros para a conversão em centímeros: \"))\n",
        "\n",
        "print(\"     \")\n",
        "\n",
        "print(\"O valor é\" + \" \" + str((a/100)) + \" centímeros.\")"
      ],
      "metadata": {
        "colab": {
          "base_uri": "https://localhost:8080/"
        },
        "id": "CX9ko3ePgOpy",
        "outputId": "dee8e937-0bc9-4340-d936-16bc3bc295b7"
      },
      "execution_count": 45,
      "outputs": [
        {
          "output_type": "stream",
          "name": "stdout",
          "text": [
            "Informe o valor em metros para a conversão em centímeros: 2.30\n",
            "     \n",
            "O valor é 0.023 centímeros\n"
          ]
        }
      ]
    },
    {
      "cell_type": "code",
      "source": [
        ""
      ],
      "metadata": {
        "id": "-11Kbku7USVf"
      },
      "execution_count": 45,
      "outputs": []
    },
    {
      "cell_type": "markdown",
      "source": [
        "# 6- Faça um Programa que peça o raio de um círculo, calcule e mostre sua área."
      ],
      "metadata": {
        "id": "F97cLpnvUaFP"
      }
    },
    {
      "cell_type": "code",
      "source": [
        "a = int(input(\"Informe o raio do círculo: \"))\n",
        "\n",
        "print(\"      \")\n",
        "print(\"A área do cículo é\" + \" \"+ str(a**2 * 3.141)+\" cm2\")"
      ],
      "metadata": {
        "colab": {
          "base_uri": "https://localhost:8080/"
        },
        "id": "fUIkfGFPUSCF",
        "outputId": "5ce7939f-b86b-4820-e892-0e30b7fd9529"
      },
      "execution_count": 50,
      "outputs": [
        {
          "output_type": "stream",
          "name": "stdout",
          "text": [
            "Informe o raio do círculo: 8\n",
            "      \n",
            "A área do cículo é 201.024 cm2\n"
          ]
        }
      ]
    },
    {
      "cell_type": "code",
      "source": [
        ""
      ],
      "metadata": {
        "id": "6JkAe8KkUR9c"
      },
      "execution_count": 46,
      "outputs": []
    },
    {
      "cell_type": "markdown",
      "source": [
        "# 7- Faça um Programa que peça o raio de um círculo, calcule e mostre sua área."
      ],
      "metadata": {
        "id": "HM0k8Cg9XL2l"
      }
    },
    {
      "cell_type": "code",
      "source": [
        "a = float(input(\"Informe a altura de um dos lados do quadrado: \"))\n",
        "\n",
        "print(\"      \")\n",
        "\n",
        "print(\"A área do quadrado é\" + \" \"+ str(a**2))    # o calculo da area do quadrado por ser: Base * Altura   ou   um Lado ao quadrado L**2"
      ],
      "metadata": {
        "colab": {
          "base_uri": "https://localhost:8080/"
        },
        "id": "013yFnq3UR0Q",
        "outputId": "e32788f4-27d4-4cef-fb0e-ac4c12648aba"
      },
      "execution_count": 48,
      "outputs": [
        {
          "output_type": "stream",
          "name": "stdout",
          "text": [
            "Informe a altura de um dos lados do quadrado: 2.34\n",
            "      \n",
            "A área do quadrado é 5.475599999999999\n"
          ]
        }
      ]
    },
    {
      "cell_type": "code",
      "source": [
        ""
      ],
      "metadata": {
        "id": "AL2gYd4TURvd"
      },
      "execution_count": null,
      "outputs": []
    },
    {
      "cell_type": "markdown",
      "source": [
        "# 8-  Faça um Programa que pergunte quanto você ganha por hora e o número de horas trabalhadas no mês. Calcule e mostre o total do seu salário no referido mês."
      ],
      "metadata": {
        "id": "td3gY8J5Zb7m"
      }
    },
    {
      "cell_type": "code",
      "source": [
        "#Considerando que você trabalha de segunda a sexta.\n",
        "\n",
        "a = float(input(\"Quanto ganha por hora?: \"))\n",
        "b = float(input(\"Quantas horas trabalhas por dia?: \"))\n",
        "\n",
        "print(\"      \")\n",
        "\n",
        "print(\"O total do seu salário, por mês, é de \" + \"R$\"+ str(a * (b*22)))"
      ],
      "metadata": {
        "colab": {
          "base_uri": "https://localhost:8080/"
        },
        "id": "C7Dh6NKaZUMI",
        "outputId": "20ea5f71-9eb7-46d4-af23-db1242c1e9d2"
      },
      "execution_count": 52,
      "outputs": [
        {
          "output_type": "stream",
          "name": "stdout",
          "text": [
            "Quanto ganha por hora?: 32\n",
            "Quantas horas trabalhas por dia?: 5\n",
            "      \n",
            "O total do seu salário, por mês, é de R$3520.0\n"
          ]
        }
      ]
    },
    {
      "cell_type": "code",
      "source": [
        ""
      ],
      "metadata": {
        "id": "dhYAuiuOZgZk"
      },
      "execution_count": null,
      "outputs": []
    },
    {
      "cell_type": "markdown",
      "source": [
        "# 9- Faça um Programa que peça a temperatura em graus Fahrenheit, transforme e mostre a temperatura em graus Celsius."
      ],
      "metadata": {
        "id": "9iLK1lhNb3KY"
      }
    },
    {
      "cell_type": "code",
      "source": [
        "\n",
        "a = float(input(\"Informe a temperatura em gruas Fahrenheit?: \"))\n",
        "\n",
        "print(\"      \")\n",
        "\n",
        "print(\"A temperatura é\" + \" \"+ str((5 * (a-22)/9)+ \" graus celsius\")"
      ],
      "metadata": {
        "colab": {
          "base_uri": "https://localhost:8080/"
        },
        "id": "e-BUX3NTZgQN",
        "outputId": "ad708465-1326-4f1d-e950-c16b2436be55"
      },
      "execution_count": 54,
      "outputs": [
        {
          "output_type": "stream",
          "name": "stdout",
          "text": [
            "Informe a temperatura em gruas Fahrenheit?: 56\n",
            "      \n",
            "A temperatura é  18.88888888888889 graus celsius\n"
          ]
        }
      ]
    },
    {
      "cell_type": "code",
      "source": [
        ""
      ],
      "metadata": {
        "id": "RVOKB059ZgLt"
      },
      "execution_count": null,
      "outputs": []
    },
    {
      "cell_type": "markdown",
      "source": [
        "# 10- Faça um Programa que peça a temperatura em graus Celsius, transforme e mostre em graus Fahrenheit."
      ],
      "metadata": {
        "id": "izftHFG1e4eB"
      }
    },
    {
      "cell_type": "code",
      "source": [
        "\n",
        "a = float(input(\"Informe a temperatura em grau Celsiu?: \"))\n",
        "\n",
        "print(\"      \")\n",
        "\n",
        "print(\"A temperatura é \" + \" \"+ str(((a * 1.8) + 32)) + \" graus Fahrenheit\")"
      ],
      "metadata": {
        "colab": {
          "base_uri": "https://localhost:8080/"
        },
        "id": "h92NpzQTfoGT",
        "outputId": "9c911bc1-e0cd-4051-a196-a1f69890a657"
      },
      "execution_count": 55,
      "outputs": [
        {
          "output_type": "stream",
          "name": "stdout",
          "text": [
            "Informe a temperatura em grau Celsiu?: 30\n",
            "      \n",
            "A temperatura é  86.0 graus Fahrenheit\n"
          ]
        }
      ]
    },
    {
      "cell_type": "code",
      "source": [
        ""
      ],
      "metadata": {
        "id": "oYfCuHM4foBZ"
      },
      "execution_count": null,
      "outputs": []
    },
    {
      "cell_type": "markdown",
      "source": [
        "# 11- Faça um Programa que peça 2 números inteiros e um número real. Calcule e mostre:\n",
        "   "
      ],
      "metadata": {
        "id": "ke6MO1WwhlW8"
      }
    },
    {
      "cell_type": "markdown",
      "source": [
        "a- o produto do dobro do primeiro com metade do segundo ."
      ],
      "metadata": {
        "id": "aAYM8Gtih7Hi"
      }
    },
    {
      "cell_type": "code",
      "source": [
        "\n",
        "a = int(input(\"Informe o primeiro número: \"))\n",
        "b = int(input(\"Informe o segundo número: \"))\n",
        "\n",
        "\n",
        "print(\"      \")\n",
        "\n",
        "print(\"O produto do dobro do primeiro com metade do segundo é \" + \" \"+ str(a**2))   #Ao invés disso (a+a) * (b/2), o que daria em mesma coisa."
      ],
      "metadata": {
        "id": "orSBY5gFhkhx"
      },
      "execution_count": null,
      "outputs": []
    },
    {
      "cell_type": "code",
      "source": [
        ""
      ],
      "metadata": {
        "id": "wfB2DcefhkYE"
      },
      "execution_count": null,
      "outputs": []
    },
    {
      "cell_type": "markdown",
      "source": [
        "b- a soma do triplo do primeiro com o terceiro."
      ],
      "metadata": {
        "id": "lvZhGn6ZllLG"
      }
    },
    {
      "cell_type": "code",
      "source": [
        "a = int(input(\"Informe o primeiro número: \"))\n",
        "#b = int(input(\"Informe o segundo número: \"))\n",
        "c = float(input(\"Informe o terceiro número: \"))\n",
        "\n",
        "print(\"      \")\n",
        "\n",
        "print(\"A soma do triplo do primeiro com o terceiro é \" + \" \"+ str(a*3 + c )) "
      ],
      "metadata": {
        "id": "y5IW3mk6hkOd"
      },
      "execution_count": null,
      "outputs": []
    },
    {
      "cell_type": "code",
      "source": [
        ""
      ],
      "metadata": {
        "id": "xHVqLfSohkCy"
      },
      "execution_count": null,
      "outputs": []
    },
    {
      "cell_type": "markdown",
      "source": [
        "c- o terceiro elevado ao cubo."
      ],
      "metadata": {
        "id": "NuA29tB3m76D"
      }
    },
    {
      "cell_type": "code",
      "source": [
        "c = float(input(\"Informe o terceiro número: \"))\n",
        "\n",
        "print(\"      \")\n",
        "\n",
        "print(\"O terceiro elevado ao cubo é \" + \" \"+ str(c**3 ))"
      ],
      "metadata": {
        "id": "K8bPyBrtZgGv"
      },
      "execution_count": null,
      "outputs": []
    },
    {
      "cell_type": "code",
      "source": [
        ""
      ],
      "metadata": {
        "id": "v4g_q0pXngnK"
      },
      "execution_count": null,
      "outputs": []
    },
    {
      "cell_type": "markdown",
      "source": [
        "# 12- Tendo como dados de entrada a altura de uma pessoa, construa um algoritmo que calcule seu peso ideal,"
      ],
      "metadata": {
        "id": "AYNgTEvpnr-i"
      }
    },
    {
      "cell_type": "code",
      "source": [
        ""
      ],
      "metadata": {
        "id": "_likXysvngiR"
      },
      "execution_count": null,
      "outputs": []
    },
    {
      "cell_type": "code",
      "source": [
        "a = float(input(\"Qual é a sua altura formato (0.00)? : \"))\n",
        "\n",
        "print(\"      \")\n",
        "\n",
        "print(\"O peso ideal, para a altura informada, é \" + \" \" + str( (72.7*a) - 58) + \"\" + \" cm.\")"
      ],
      "metadata": {
        "id": "VsmsCIUxngR1"
      },
      "execution_count": null,
      "outputs": []
    },
    {
      "cell_type": "code",
      "source": [
        ""
      ],
      "metadata": {
        "id": "YSLkqwC7ngNN"
      },
      "execution_count": null,
      "outputs": []
    },
    {
      "cell_type": "markdown",
      "source": [
        "# 13- Tendo como dado de entrada a altura (h) de uma pessoa, construa um algoritmo que calcule seu peso ideal, utilizando as seguintes fórmulas"
      ],
      "metadata": {
        "id": "nEvH2-MupFlG"
      }
    },
    {
      "cell_type": "code",
      "source": [
        "\n",
        "op = (input(\"Você é homem (Sim ou Não)?: \"))\n",
        " \n",
        "if (op==\"Sim\" or \"sim\" or \"SIM\"):\n",
        "    h = float(input(\"Informe a altura em formato (0.00): \"))\n",
        "    print(\"    \")\n",
        "    print(\"O peso ideal para a sua idade é \" + str((72.7*h) - 58))\n",
        "elif op==\"não\" or \"nao\" or \"NÃO\" or \"NAO\" or \"Nao\" or \"Não\":\n",
        "     m = float(input(\"Informe a altura em formato (0.00): \"))\n",
        "     print(\"    \")\n",
        "     print(\"O peso ideal para a sua idade é \"+ str(m))\n",
        "  "
      ],
      "metadata": {
        "colab": {
          "base_uri": "https://localhost:8080/"
        },
        "id": "oWh-mQEJpEKy",
        "outputId": "74515953-385e-4a15-e402-d5cff72479b0"
      },
      "execution_count": 95,
      "outputs": [
        {
          "output_type": "stream",
          "name": "stdout",
          "text": [
            "Você é homem (Sim ou Não)?: nao\n",
            "Informe a altura em formato (0.00): 1.90\n",
            "    \n",
            "O peso ideal para a sua idade é 80.13\n"
          ]
        }
      ]
    },
    {
      "cell_type": "code",
      "source": [
        "  print(\"O peso ideal para a sua idade é \"+ str(m))"
      ],
      "metadata": {
        "id": "t3IXZEIkOFtS"
      },
      "execution_count": null,
      "outputs": []
    },
    {
      "cell_type": "code",
      "source": [
        ""
      ],
      "metadata": {
        "id": "gtVeCavPcznY"
      },
      "execution_count": null,
      "outputs": []
    },
    {
      "cell_type": "markdown",
      "source": [
        "# 14- João Papo-de-Pescador, homem de bem, comprou um microcomputador para controlar o rendimento diário de seu trabalho. Toda vez que ele traz um peso de peixes maior que o estabelecido pelo regulamento de pesca do estado de São Paulo (50 quilos) deve pagar uma multa de R$ 4,00 por quilo excedente. João precisa que você faça um programa que leia a variável peso (peso de peixes) e calcule o excesso. Gravar na variável excesso a quantidade de quilos além do limite e na variável multa o valor da multa que João deverá pagar. Imprima os dados do programa com as mensagens adequadas."
      ],
      "metadata": {
        "id": "qYaxRzjpc3PR"
      }
    },
    {
      "cell_type": "code",
      "source": [
        "peso = float(input(\"Qual é o peso do pescado?: \"))\n",
        "peso_regulamento = 50 \n",
        "\n",
        "if (peso > peso_regulamento):\n",
        "  peso -= peso_regulamento    # Ao invés de criar uma variavel \"excesso\" é preferível fazer direto, da mesma forma o resultado será alcançado. Senão seria : excesso = peso-peso_regulamento, o que é igual a \"peso -= peso_regulamento\".\n",
        "\n",
        "print(\"     \")\n",
        "print(\"O peso execido é de \" + str(peso)+\"kg.\")\n",
        "print(\"     \")\n",
        "\n",
        "print(\"A multa que o Senhor João deve pagar é de R$\"+ str(peso*4)) \n"
      ],
      "metadata": {
        "colab": {
          "base_uri": "https://localhost:8080/"
        },
        "id": "RhvgggZbcy0g",
        "outputId": "17908e42-a127-4848-af63-502ab74be7c1"
      },
      "execution_count": 104,
      "outputs": [
        {
          "output_type": "stream",
          "name": "stdout",
          "text": [
            "Qual é o peso do pescado?: 70\n",
            "     \n",
            "-O peso execido é de 20.0kg.\n",
            "     \n",
            "-A multa que o Senhor João deve pagar é de R$80.0\n"
          ]
        }
      ]
    },
    {
      "cell_type": "code",
      "source": [
        ""
      ],
      "metadata": {
        "id": "aY1xzXpUcyvj"
      },
      "execution_count": null,
      "outputs": []
    },
    {
      "cell_type": "markdown",
      "source": [
        "# 15- Faça um Programa que pergunte quanto você ganha por hora e o número de horas trabalhadas no mês. Calcule e mostre o total do seu salário no referido mês, sabendo-se que são descontados 11% para o Imposto de Renda, 8% para o INSS e 5% para o sindicato, faça um programa que nos dê:"
      ],
      "metadata": {
        "id": "Q59HtrVQkFkY"
      }
    },
    {
      "cell_type": "markdown",
      "source": [
        "a- salário bruto."
      ],
      "metadata": {
        "id": "KRptr3YikKXd"
      }
    },
    {
      "cell_type": "code",
      "source": [
        "#Considerando que você trabalha de segunda a sexta.\n",
        "\n",
        "a = float(input(\"Quanto ganha por hora?: \"))\n",
        "b = float(input(\"Quantas horas trabalhas por mês?: \"))\n",
        "print(\"      \")\n",
        "\n",
        "print(\"O seu salário bruto é de \" + \"R$\"+ str(a * b))"
      ],
      "metadata": {
        "colab": {
          "base_uri": "https://localhost:8080/"
        },
        "id": "1KgJanKxcyqG",
        "outputId": "98bb60fc-8bc4-4007-bf2a-264433f53502"
      },
      "execution_count": 112,
      "outputs": [
        {
          "output_type": "stream",
          "name": "stdout",
          "text": [
            "Quanto ganha por hora?: 20\n",
            "Quantas horas trabalhas por mês?: 80\n",
            "      \n",
            "O seu salário bruto é de R$1600.0\n"
          ]
        }
      ]
    },
    {
      "cell_type": "code",
      "source": [
        ""
      ],
      "metadata": {
        "id": "_5BPz5PWkNH5"
      },
      "execution_count": null,
      "outputs": []
    },
    {
      "cell_type": "markdown",
      "source": [
        "b- quanto pagou ao INSS."
      ],
      "metadata": {
        "id": "9Jg3YwAslRmo"
      }
    },
    {
      "cell_type": "code",
      "source": [
        "print(\"Pagaou a INSS \" + \"R$\"+ str((a * b)*0.08))\n",
        "print(\"      \")\n"
      ],
      "metadata": {
        "colab": {
          "base_uri": "https://localhost:8080/"
        },
        "id": "_5_lzTFokNBU",
        "outputId": "8abc34ac-679c-434e-f1e4-352242fc0407"
      },
      "execution_count": 113,
      "outputs": [
        {
          "output_type": "stream",
          "name": "stdout",
          "text": [
            "Pagaou a INSS R$128.0\n",
            "      \n"
          ]
        }
      ]
    },
    {
      "cell_type": "code",
      "source": [
        ""
      ],
      "metadata": {
        "id": "W6rzn2yGkM2M"
      },
      "execution_count": null,
      "outputs": []
    },
    {
      "cell_type": "markdown",
      "source": [
        "c- Quanto pagou ao sindicato."
      ],
      "metadata": {
        "id": "TTIaU22im_nS"
      }
    },
    {
      "cell_type": "code",
      "source": [
        "print(\"Pagaou ao sindicato \" + \"R$\"+ str((a * b)*0.05))\n",
        "print(\"      \")\n"
      ],
      "metadata": {
        "colab": {
          "base_uri": "https://localhost:8080/"
        },
        "id": "6g0cFaLzm8i9",
        "outputId": "57dc60a9-4c76-4692-90af-d6762414e979"
      },
      "execution_count": 114,
      "outputs": [
        {
          "output_type": "stream",
          "name": "stdout",
          "text": [
            "Pagaou ao sindicato R$80.0\n",
            "      \n"
          ]
        }
      ]
    },
    {
      "cell_type": "markdown",
      "source": [
        "As questões d e \"e\" estão meio confusas, mas fiz o que percebi."
      ],
      "metadata": {
        "id": "nZvDBb-Cq7QS"
      }
    },
    {
      "cell_type": "code",
      "source": [
        ""
      ],
      "metadata": {
        "id": "mbZFK4nEm8d-"
      },
      "execution_count": null,
      "outputs": []
    },
    {
      "cell_type": "markdown",
      "source": [
        "d- o salário líquido."
      ],
      "metadata": {
        "id": "vHBQxYGboNJO"
      }
    },
    {
      "cell_type": "code",
      "source": [
        "\n",
        "print(\"O seu salário restante é de \" + \"R$\"+ str(((a*b)-((a * b)*0.13)))) # O desconto do sindicato foi somado com o do INSS, resultado em 13%.\n",
        "print(\"      \")\n"
      ],
      "metadata": {
        "colab": {
          "base_uri": "https://localhost:8080/"
        },
        "id": "RLbJmdg1oRZZ",
        "outputId": "d4d9eaad-0aec-43e9-8787-ff8d6c9a9893"
      },
      "execution_count": 117,
      "outputs": [
        {
          "output_type": "stream",
          "name": "stdout",
          "text": [
            "O seu salário restante é de R$1392.0\n",
            "      \n"
          ]
        }
      ]
    },
    {
      "cell_type": "code",
      "source": [
        ""
      ],
      "metadata": {
        "id": "MxH8i2XFoRON"
      },
      "execution_count": null,
      "outputs": []
    },
    {
      "cell_type": "markdown",
      "source": [
        "e- calcule os descontos e o salário líquido"
      ],
      "metadata": {
        "id": "qcdvqggmqJM-"
      }
    },
    {
      "cell_type": "code",
      "source": [
        "\n",
        "print(\"O total dos descontados no salário é de \" + \"R$\"+ str((a * b)*0.24)) # Por questão de praticidade os descontos foram somados, resultando em 24%.\n",
        "print(\"      \")\n",
        "\n",
        "print(\"Após a todos os descontros, o salário líquido é de \" + \"R$\"+ str(((a*b)-((a * b)*0.24)))) \n"
      ],
      "metadata": {
        "colab": {
          "base_uri": "https://localhost:8080/"
        },
        "id": "sL4ay0_toRDt",
        "outputId": "2aa6a243-f672-4603-87ed-0f214bcaf0bd"
      },
      "execution_count": 120,
      "outputs": [
        {
          "output_type": "stream",
          "name": "stdout",
          "text": [
            "O total dos descontados no salário é de R$384.0\n",
            "      \n",
            "Após a todos os descontros, o salário líquido é de R$1216.0\n",
            "      \n"
          ]
        }
      ]
    },
    {
      "cell_type": "code",
      "source": [
        ""
      ],
      "metadata": {
        "id": "iw3Q5pmXtr5-"
      },
      "execution_count": null,
      "outputs": []
    },
    {
      "cell_type": "markdown",
      "source": [
        "# 16- Faça um programa para uma loja de tintas. O programa deverá pedir o tamanho em metros quadrados da área a ser pintada. Considere que a cobertura da tinta é de 1 litro para cada 3 metros quadrados e que a tinta é vendida em latas de 18 litros, que custam R$ 80,00. Informe ao usuário a quantidades de latas de tinta a serem compradas e o preço total."
      ],
      "metadata": {
        "id": "QudthVuwtwf5"
      }
    },
    {
      "cell_type": "code",
      "source": [
        "a = float(input(\"Qual é o tamanho (em metros quadro), da área a ser pintada?: \"))\n",
        "print(\"---------------------------------------------------------------\")\n",
        "print(\"São necessários \" + str((a/3)) +\" litros de tinta.\")\n",
        "print(\"          \")\n",
        "print(\"São necessários \"+ str(((a/3)/18)) + \" latas de tinta\")\n",
        "print(\"              \")\n",
        "print(\"O preço total a ser investido é de R$\"+ str((((a/3)/18))*80))\n"
      ],
      "metadata": {
        "colab": {
          "base_uri": "https://localhost:8080/"
        },
        "id": "8WCOu24qtryg",
        "outputId": "fb46cf3c-555a-4ae1-8abe-37bd226eea39"
      },
      "execution_count": 174,
      "outputs": [
        {
          "output_type": "stream",
          "name": "stdout",
          "text": [
            "Qual é o tamanho (em metros quadros),de área a ser pintada?: 90\n",
            "---------------------------------------------------------------\n",
            "São necessários 30.0 litros de tinta.\n",
            "          \n",
            "São necessários 1.6666666666666667 latas de tinta\n",
            "              \n",
            "O preço total a ser investido é de R$133.33333333333334\n"
          ]
        }
      ]
    },
    {
      "cell_type": "markdown",
      "source": [
        "#17- Faça um Programa para uma loja de tintas. O programa deverá pedir o tamanho em metros quadrados da área a ser pintada. Considere que a cobertura da tinta é de 1 litro para cada 6 metros quadrados e que a tinta é vendida em latas de 18 litros, que custam R$ 80,00 ou em galões de 3,6 litros, que custam R$ 25,00.\n",
        "Informe ao usuário as quantidades de tinta a serem compradas e os respectivos preços em 3 situações:"
      ],
      "metadata": {
        "id": "t6yzwZY--FN9"
      }
    },
    {
      "cell_type": "markdown",
      "source": [
        "a- comprar apenas latas de 18 litros;"
      ],
      "metadata": {
        "id": "pfbiu9e4b6fl"
      }
    },
    {
      "cell_type": "code",
      "source": [
        "a = float(input(\"Qual é o tamanho (em metros quadro), da área a ser pintada?: \"))\n",
        "print(\"---------------------------------------------------------------\")\n",
        "print(\"São necessários \" + str((a/6)) +\" litros de tinta, se comprar a lata de 18 litros.\")\n",
        "print(\"          \")\n",
        "print(\"São necessários \"+ str(((a/6)/18)) + \" latas de tinta.\")\n",
        "print(\"              \")\n",
        "print(\"O preço total a ser investido é de R$\"+ str((((a/6)/18))*80))\n"
      ],
      "metadata": {
        "colab": {
          "base_uri": "https://localhost:8080/"
        },
        "id": "UiyeDc8WtrXY",
        "outputId": "e027caa2-ca1a-4002-a221-b71b67811a82"
      },
      "execution_count": 6,
      "outputs": [
        {
          "output_type": "stream",
          "name": "stdout",
          "text": [
            "Qual é o tamanho (em metros quadro), da área a ser pintada?: 90\n",
            "---------------------------------------------------------------\n",
            "São necessários 15.0 litros de tinta, se comprar a lata de 18 litros.\n",
            "          \n",
            "São necessários 0.8333333333333334 latas de tinta.\n",
            "              \n",
            "O preço total a ser investido é de R$66.66666666666667\n"
          ]
        }
      ]
    },
    {
      "cell_type": "markdown",
      "source": [
        "b- comprar apenas latas de 18 litros;"
      ],
      "metadata": {
        "id": "5ic5OQdVhk5N"
      }
    },
    {
      "cell_type": "code",
      "source": [
        "a = float(input(\"Qual é o tamanho (em metros quadro), da área a ser pintada?: \"))\n",
        "print(\"---------------------------------------------------------------\")\n",
        "print(\"São necessários \" + str((a/6)) +\" litros de tinta, se comprar galão de 3.6 litros.\")\n",
        "print(\"          \")\n",
        "print(\"São necessários \"+ str(((a/6)/3.6)) + \" latas de tinta.\")\n",
        "print(\"              \")\n",
        "print(\"O preço total a ser investido é de R$\"+ str((((a/6)/3.6))*25))\n"
      ],
      "metadata": {
        "id": "kWAOAp-1hjeN"
      },
      "execution_count": null,
      "outputs": []
    },
    {
      "cell_type": "code",
      "source": [
        ""
      ],
      "metadata": {
        "id": "3e6qAhD3hjYl"
      },
      "execution_count": null,
      "outputs": []
    },
    {
      "cell_type": "markdown",
      "source": [
        "c- misturar latas e galões, de forma que o desperdício de tinta seja menor. Acrescente 10% de folga e sempre arredonde os valores para cima, isto é, considere latas cheias."
      ],
      "metadata": {
        "id": "im80inVZjAHU"
      }
    },
    {
      "cell_type": "code",
      "source": [
        "a = float(input(\"Qual é o tamanho (em metros quadro), da área a ser pintada?: \"))\n",
        "print(\"---------------------------------------------------------------\")\n",
        "print(\"São necessários \" + str((a/6)) +\" litros de tinta, se comprar latas de 18 e galões de 3.6 litros.\")\n",
        "print(\"          \")\n",
        "#c = ((a/6)/3.6) + ((a/6)/18)\n",
        "\n",
        "print(\"São necessários \" + str(((a/6)/3.6) + ((a/6)/18) + 0.10 * ((a/6)/3.6) + ((a/6)/18)) + \" latas de tinta, misturando galões de 3.6 litros e latas de 18 litros.\")\n",
        "print(\"              \")\n"
      ],
      "metadata": {
        "colab": {
          "base_uri": "https://localhost:8080/"
        },
        "id": "0KATYga8hjEo",
        "outputId": "134aa80d-7660-4547-b57e-a5868923e069"
      },
      "execution_count": 23,
      "outputs": [
        {
          "output_type": "stream",
          "name": "stdout",
          "text": [
            "Qual é o tamanho (em metros quadro), da área a ser pintada?: 90\n",
            "---------------------------------------------------------------\n",
            "São necessários 15.0 litros de tinta, se comprar latas de 18 e galões de 3.6 litros.\n",
            "          \n",
            "São necessários 6.25 latas de tinta, misturando galões de 3.6 litros e latas de 18 litros.\n",
            "              \n"
          ]
        }
      ]
    },
    {
      "cell_type": "code",
      "source": [
        ""
      ],
      "metadata": {
        "id": "wN5bfAQNhi75"
      },
      "execution_count": null,
      "outputs": []
    },
    {
      "cell_type": "markdown",
      "source": [
        "#18- Faça um programa que peça o tamanho de um arquivo para download (em MB) e a velocidade de um link de Internet (em Mbps), calcule e informe o tempo aproximado de download do arquivo usando este link (em minutos)."
      ],
      "metadata": {
        "id": "7Pg7KO1Gq8nk"
      }
    },
    {
      "cell_type": "code",
      "source": [
        "a = int(input(\"Qual é o tamanho (em Mb) do arquivo a ser descaregado?: \"))\n",
        "print(\"   \")\n",
        "b = int(input(\"Qual é a velocidade de download da sua internet (em Mbps?: \"))\n",
        "\n",
        "c = a/(b/8) # a = tamanho do arquivo; b = velocidade da internet\n",
        "\n",
        "print(\"         \")\n",
        "print(\"O tempo aproximado para descarregar o arquivo é de \" + str(c) + \" segundos.\")\n",
        "\n"
      ],
      "metadata": {
        "colab": {
          "base_uri": "https://localhost:8080/"
        },
        "id": "gHBTYo0dhiwO",
        "outputId": "0810b88b-1ad9-4221-cdce-b7a243dd7a26"
      },
      "execution_count": 37,
      "outputs": [
        {
          "output_type": "stream",
          "name": "stdout",
          "text": [
            "Qual é o tamanho (em Mb) do arquivo a ser descaregado?: 10\n",
            "   \n",
            "Qual é a velocidade de download da sua internet (em Mbps?: 20\n",
            "         \n",
            "O tempo aproximado para descarregar o arquivo é de 4.0 segundos.\n"
          ]
        }
      ]
    }
  ]
}
