{
  "nbformat": 4,
  "nbformat_minor": 0,
  "metadata": {
    "colab": {
      "name": "2- Estrutura de decisão.ipynb",
      "provenance": [],
      "collapsed_sections": [
        "gLMUyQX9CsTi",
        "CCSvE99HEaiD",
        "rENaPXzmFZId",
        "F1jxg7K71G_2",
        "JXNpQjsr_ppt"
      ]
    },
    "kernelspec": {
      "name": "python3",
      "display_name": "Python 3"
    },
    "language_info": {
      "name": "python"
    },
    "accelerator": "GPU"
  },
  "cells": [
    {
      "cell_type": "code",
      "execution_count": null,
      "metadata": {
        "id": "pyXbztSoCqUL"
      },
      "outputs": [],
      "source": [
        ""
      ]
    },
    {
      "cell_type": "markdown",
      "source": [
        "# 1 - Faça um Programa que peça dois números e imprima o maior deles."
      ],
      "metadata": {
        "id": "gLMUyQX9CsTi"
      }
    },
    {
      "cell_type": "code",
      "source": [
        "\n",
        "a = int(input(\"Informe o primerio número: \"))\n",
        "b = int(input(\"Informe o segundo número número: \"))\n",
        "\n",
        "if (a>b):\n",
        " print(\"         \")\n",
        " print(\"O maior numero é \" + str(a))\n",
        " print(\"    \")\n",
        "else:\n",
        " print(\"         \")\n",
        " print(\"O maior numero é \" + str(b)) \n"
      ],
      "metadata": {
        "colab": {
          "base_uri": "https://localhost:8080/"
        },
        "id": "wBSsW96KCrMt",
        "outputId": "c4ee7bea-a299-4bf4-926e-800861fa4646"
      },
      "execution_count": null,
      "outputs": [
        {
          "output_type": "stream",
          "name": "stdout",
          "text": [
            "Informe o primerio número: 4\n",
            "Informe o segundo número número: 5\n",
            "         \n",
            "O maior numero é 5\n"
          ]
        }
      ]
    },
    {
      "cell_type": "code",
      "source": [
        ""
      ],
      "metadata": {
        "id": "J4qy3EJhCrS4"
      },
      "execution_count": null,
      "outputs": []
    },
    {
      "cell_type": "markdown",
      "source": [
        "#2 - Faça um Programa que peça um valor e mostre na tela se o valor é positivo ou negativo."
      ],
      "metadata": {
        "id": "CCSvE99HEaiD"
      }
    },
    {
      "cell_type": "code",
      "source": [
        "a = int(input(\"Informe um número: \"))\n",
        "\n",
        "if (a==-a):\n",
        " print(\"         \")\n",
        " print(\"O número informado é negativo e o mesmo é\" + str(-a))\n",
        " print(\"    \")\n",
        "else:\n",
        " print(\"         \")\n",
        " print(\"O maior numero é positivo e o mesmo é \" + str(a)) \n"
      ],
      "metadata": {
        "id": "dVwKrVqxCrY2"
      },
      "execution_count": null,
      "outputs": []
    },
    {
      "cell_type": "code",
      "source": [
        ""
      ],
      "metadata": {
        "id": "ouN2ZogDCrdM"
      },
      "execution_count": null,
      "outputs": []
    },
    {
      "cell_type": "markdown",
      "source": [
        "#3- Faça um Programa que verifique se uma letra digitada é \"F\" ou \"M\". Conforme a letra escrever: F - Feminino, M - Masculino, Sexo Inválido."
      ],
      "metadata": {
        "id": "rENaPXzmFZId"
      }
    },
    {
      "cell_type": "code",
      "source": [
        ""
      ],
      "metadata": {
        "id": "Fk5KPE2qCrn2"
      },
      "execution_count": null,
      "outputs": []
    },
    {
      "cell_type": "code",
      "source": [
        "a = (input(\"Informe uma letra: \"))\n",
        "\n",
        "if (a=='F' or a=='f'):\n",
        " print(\"         \")\n",
        " print(\"F - Feminino\")\n",
        " print(\"    \")\n",
        "elif(a=='M' or a=='m'):\n",
        " print(\"         \")\n",
        " print(\"M - Masculino\") \n",
        "else:\n",
        "  print(\"    \")\n",
        "  print(\"Sexo inválido.\")"
      ],
      "metadata": {
        "id": "tpgNp7UZCrtg"
      },
      "execution_count": null,
      "outputs": []
    },
    {
      "cell_type": "code",
      "source": [
        ""
      ],
      "metadata": {
        "id": "UOl-ZziuLLQ3"
      },
      "execution_count": null,
      "outputs": []
    },
    {
      "cell_type": "markdown",
      "source": [
        "#4 - Faça um Programa que verifique se uma letra digitada é vogal ou consoante."
      ],
      "metadata": {
        "id": "Zwo8KMu9Ls6Q"
      }
    },
    {
      "cell_type": "code",
      "source": [
        ""
      ],
      "metadata": {
        "id": "lkx0o5a-gB64"
      },
      "execution_count": null,
      "outputs": []
    },
    {
      "cell_type": "code",
      "source": [
        ""
      ],
      "metadata": {
        "id": "qfisM6MS0dNS"
      },
      "execution_count": null,
      "outputs": []
    },
    {
      "cell_type": "code",
      "source": [
        "alfa = input(\"Informe uma letra ou consoante:\")\n",
        "\n",
        "if alfa.isalpha():\n",
        "    if alfa ==\"a\":\n",
        "        print(\"    \")\n",
        "        print(\"Vogal digitada é a letra \"+ alfa)\n",
        "    elif alfa == \"e\":\n",
        "        print(\"    \")\n",
        "        print(\"Vogal  digitada é a letra \"+ alfa)\n",
        "    elif alfa == \"i\":\n",
        "        print(\"    \")\n",
        "        print(\"Vogal digitada é a letra \"+ alfa)\n",
        "    elif alfa == \"o\":\n",
        "        print(\"    \")\n",
        "        print(\"Vogal digitada é a letra \"+ alfa)\n",
        "    elif alfa == \"u\":\n",
        "        print(\"    \")\n",
        "        print(\"Vogal digitada é a letra \"+ alfa)\n",
        "        print(\"    \")\n",
        "        print(\"Insira uma letra ou consoante\")\n",
        "    else:\n",
        "        print(\"    \")\n",
        "        print(\"Consoante\")\n",
        "else:\n",
        "    print(\"    \")\n",
        "    print(\"Não é uma letra!\")"
      ],
      "metadata": {
        "colab": {
          "base_uri": "https://localhost:8080/"
        },
        "id": "DYt6sUkFLLXQ",
        "outputId": "9af24d1a-7cfe-4e18-d55b-ae67d8b8b025"
      },
      "execution_count": 1,
      "outputs": [
        {
          "output_type": "stream",
          "name": "stdout",
          "text": [
            "Informe uma letra ou consoante:a\n",
            "    \n",
            "Vogal digitada e é a letra a\n"
          ]
        }
      ]
    },
    {
      "cell_type": "code",
      "source": [
        ""
      ],
      "metadata": {
        "id": "QWOaXlXsYF88"
      },
      "execution_count": null,
      "outputs": []
    },
    {
      "cell_type": "markdown",
      "source": [
        "# 5 - Faça um programa para a leitura de duas notas parciais de um aluno. O programa deve calcular a média alcançada por aluno e apresentar:"
      ],
      "metadata": {
        "id": "bnE5c9yGgz9R"
      }
    },
    {
      "cell_type": "markdown",
      "source": [
        "a) - A mensagem \"Aprovado\", se a média alcançada for maior ou igual a sete;"
      ],
      "metadata": {
        "id": "dXn2aeKdhMnG"
      }
    },
    {
      "cell_type": "code",
      "source": [
        "a = float(input('Informe a primeira nota: '))\n",
        "b = float(input('Informe a segunda nota: '))\n",
        "\n",
        "if (a+b>=7.0):\n",
        "  print(\"    \")\n",
        "  print(\"Aluno Aprovaod!\")\n",
        "  print(\"    \")\n",
        "  print(\"A media final do aluno é \"+ str((a+b)/2))\n"
      ],
      "metadata": {
        "id": "69hLi70eYIXd",
        "colab": {
          "base_uri": "https://localhost:8080/"
        },
        "outputId": "01ace29f-0b23-4068-a3ce-f5e029745d94"
      },
      "execution_count": null,
      "outputs": [
        {
          "output_type": "stream",
          "name": "stdout",
          "text": [
            "Informe a primeira nota: 9\n",
            "Informe a segunda nota: 8\n",
            "    \n",
            "Aluno Aprovaod!\n",
            "    \n",
            "A media final do aluno é 8.5\n"
          ]
        }
      ]
    },
    {
      "cell_type": "markdown",
      "source": [
        "b) - A mensagem \"Reprovado\", se a média for menor do que sete;"
      ],
      "metadata": {
        "id": "zuKTzfxJiIPS"
      }
    },
    {
      "cell_type": "code",
      "source": [
        "\n",
        "a = float(input('Informe a primeira nota: '))\n",
        "b = float(input('Informe a segunda nota: '))\n",
        "\n",
        "if((a+b)/2<7.0):\n",
        "  print(\"    \")\n",
        "  print(\"    \")\n",
        "  print(\"Aluno Reprovado!\")\n",
        "  print(\"    \")\n",
        "  print(\"A media final do aluno é \"+ str((a+b)/2))\n"
      ],
      "metadata": {
        "colab": {
          "base_uri": "https://localhost:8080/"
        },
        "id": "83kB7CaSgx8x",
        "outputId": "09a1c632-aaee-4ab0-f9d0-c11350a1b428"
      },
      "execution_count": null,
      "outputs": [
        {
          "output_type": "stream",
          "name": "stdout",
          "text": [
            "Informe a primeira nota: 5\n",
            "Informe a segunda nota: 5\n",
            "    \n",
            "    \n",
            "Aluno Reprovado!\n",
            "    \n",
            "A media final do aluno é 5.0\n"
          ]
        }
      ]
    },
    {
      "cell_type": "code",
      "source": [
        ""
      ],
      "metadata": {
        "id": "VtjnQZ0igyCv"
      },
      "execution_count": null,
      "outputs": []
    },
    {
      "cell_type": "markdown",
      "source": [
        "c) - A mensagem \"Aprovado com Distinção\", se a média for igual a dez."
      ],
      "metadata": {
        "id": "VLWvAdbviheU"
      }
    },
    {
      "cell_type": "code",
      "source": [
        "a = float(input('Informe a primeira nota: '))\n",
        "b = float(input('Informe a segunda nota: '))\n",
        "\n",
        "if ((a+b)/2==10.0):\n",
        "  print(\"    \")\n",
        "  print(\"Aluno Aprovado com distinção!\")\n",
        "  print(\"    \")\n",
        "  print(\"A media final do aluno é \"+ str((a+b)/2))\n"
      ],
      "metadata": {
        "colab": {
          "base_uri": "https://localhost:8080/"
        },
        "id": "JnUI3ej_gyIq",
        "outputId": "74ba9966-f6ab-4ab1-eb6b-938fae8860ab"
      },
      "execution_count": null,
      "outputs": [
        {
          "output_type": "stream",
          "name": "stdout",
          "text": [
            "Informe a primeira nota: 10\n",
            "Informe a segunda nota: 10\n",
            "    \n",
            "Aluno Aprovado com distinção!\n",
            "    \n",
            "A media final do aluno é 10.0\n"
          ]
        }
      ]
    },
    {
      "cell_type": "code",
      "source": [
        ""
      ],
      "metadata": {
        "id": "V4Rbc_FPgyOo"
      },
      "execution_count": null,
      "outputs": []
    },
    {
      "cell_type": "markdown",
      "source": [
        "# 6 - Faça um Programa que leia três números e mostre o maior deles."
      ],
      "metadata": {
        "id": "cfAHyAM6kVSN"
      }
    },
    {
      "cell_type": "code",
      "source": [
        "a = int(input('Informe o primeiro número: '))\n",
        "b = int(input('Informe o segundo número: '))\n",
        "c = int(input('Informe o terceiro número: '))\n",
        "\n",
        "if (a>b and a>c):\n",
        "  print(\"    \")\n",
        "  print('O primeiro número é o maior '+ str(a))\n",
        "elif(b>a and b>c):\n",
        "  print(\"    \")\n",
        "  print('O Segundo número é o maior '+ str(b))\n",
        "else:\n",
        "  print(\"    \")\n",
        "  print('O terceiro número é o maior '+ str(c))"
      ],
      "metadata": {
        "colab": {
          "base_uri": "https://localhost:8080/"
        },
        "id": "emtMhkoHkTZg",
        "outputId": "e7089979-b00e-4a74-82c5-d4c6e9e7a520"
      },
      "execution_count": null,
      "outputs": [
        {
          "output_type": "stream",
          "name": "stdout",
          "text": [
            "Informe a primeira nota: 6\n",
            "Informe a segunda nota: 4\n",
            "Informe a segunda nota: 2\n",
            "    \n",
            "O terceiro número é o maior 6\n"
          ]
        }
      ]
    },
    {
      "cell_type": "code",
      "source": [
        ""
      ],
      "metadata": {
        "id": "GKTxm01vkTex"
      },
      "execution_count": null,
      "outputs": []
    },
    {
      "cell_type": "markdown",
      "source": [
        "# 7 - Faça um Programa que leia três números e mostre o maior e o menor deles."
      ],
      "metadata": {
        "id": "tWds20pftLp1"
      }
    },
    {
      "cell_type": "code",
      "source": [
        "a = int(input('Informe o primeiro número: '))\n",
        "b = int(input('Informe o segundo número: '))\n",
        "c = int(input('Informe o terceiro número: '))\n",
        "\n",
        "if (a>b and a>c):\n",
        "  print(\"    \")\n",
        "  print('O maior número é '+ str(a))\n",
        "elif(b>a and b>c):\n",
        "  print(\"    \")\n",
        "  print('O maior número é '+ str(b))\n",
        "else:\n",
        "  print(\"    \")\n",
        "  print('O maior número é '+ str(c))\n",
        "\n",
        "\n",
        "# Metodo inverso em comparação ao de cima, para achar o menor número.\n",
        "\n",
        "if (a<b and a<c):\n",
        "  print(\"    \")\n",
        "  print('O menor número é '+ str(a))\n",
        "elif(b<a and b<c):\n",
        "  print(\"    \")\n",
        "  print('O menor número é '+ str(b))\n",
        "else:\n",
        "  print(\"    \")\n",
        "  print('O menor número é '+ str(c))\n"
      ],
      "metadata": {
        "colab": {
          "base_uri": "https://localhost:8080/"
        },
        "id": "454eV7oUkTlO",
        "outputId": "ed290235-7527-4c0a-91f0-4dfe6a40a786"
      },
      "execution_count": null,
      "outputs": [
        {
          "output_type": "stream",
          "name": "stdout",
          "text": [
            "Informe o primeiro número: 4\n",
            "Informe o segundo número: 3\n",
            "Informe o terceiro número: 8\n",
            "    \n",
            "O maior número é 8\n",
            "    \n",
            "O menor número é 3\n"
          ]
        }
      ]
    },
    {
      "cell_type": "code",
      "source": [
        ""
      ],
      "metadata": {
        "id": "DO_eg1nOkTrK"
      },
      "execution_count": null,
      "outputs": []
    },
    {
      "cell_type": "markdown",
      "source": [
        "# 8 - Faça um programa que pergunte o preço de três produtos e informe qual produto você deve comprar, sabendo que a decisão é sempre pelo mais barato."
      ],
      "metadata": {
        "id": "WQHqjsk8vxPy"
      }
    },
    {
      "cell_type": "code",
      "source": [
        "a = float(input('Quanto é esta TV de 55 polegadas?: '))\n",
        "b = float(input('E esta de 42, quanto é?: '))\n",
        "c = float(input('Aquela lá no canto de também de 40, quanto é: '))\n",
        "\n",
        "\n",
        "if (a<b and a<c):\n",
        "  print(\"    \")\n",
        "  print('R$'+ str(a) + ', é o menor preço entre as TV desejadas.')\n",
        "elif(b<a and b<c):\n",
        "  print(\"    \")\n",
        "  print('R$'+ str(b) + ', é o menor preço entre as TV desejadas.')\n",
        "else:\n",
        "  print(\"    \")\n",
        "  print('R$'+ str(c)+ ', é o menor preço entre as TV desejadas.')\n"
      ],
      "metadata": {
        "colab": {
          "base_uri": "https://localhost:8080/"
        },
        "id": "RbdipY1kgyUI",
        "outputId": "5b314d61-1d16-4856-f174-6b602671792a"
      },
      "execution_count": null,
      "outputs": [
        {
          "output_type": "stream",
          "name": "stdout",
          "text": [
            "Quanto é esta TV de 55 polegadas?: 454\n",
            "E esta de 42, quanto é?: 5554\n",
            "Aquela lá no canto de também de 40, quanto é: 5444\n",
            "    \n",
            "R$454.0, é o menor preço entre as TV desejadas\n"
          ]
        }
      ]
    },
    {
      "cell_type": "code",
      "source": [
        ""
      ],
      "metadata": {
        "id": "hSNhplHSgyZQ"
      },
      "execution_count": null,
      "outputs": []
    },
    {
      "cell_type": "markdown",
      "source": [
        "# 9 - Faça um Programa que leia três números e mostre-os em ordem decrescente."
      ],
      "metadata": {
        "id": "F1jxg7K71G_2"
      }
    },
    {
      "cell_type": "code",
      "source": [
        "prod_1 = float(input('Valor 1° produto: '))\n",
        "prod_2 = float(input('Valor 2° produto: '))\n",
        "prod_3 = float(input('Valor 3° produto: '))\n",
        "\n",
        "if prod_1 <= prod_2 and prod_1 <= prod_3:\n",
        "    print('Compre o primeiro produto.')\n",
        "elif prod_2 <= prod_3:\n",
        "    print('Compre o segundo produto.')\n",
        "else:\n",
        "    print('Compre o terceiro produto')"
      ],
      "metadata": {
        "colab": {
          "base_uri": "https://localhost:8080/"
        },
        "id": "Y7drpO8igyff",
        "outputId": "f0b1c07c-f1fe-4923-b82f-d2681de351f7"
      },
      "execution_count": null,
      "outputs": [
        {
          "output_type": "stream",
          "name": "stdout",
          "text": [
            "Valor 1° produto: 3\n",
            "Valor 2° produto: 5\n",
            "Valor 3° produto: 9\n",
            "Compre o primeiro produto.\n"
          ]
        }
      ]
    },
    {
      "cell_type": "code",
      "source": [
        ""
      ],
      "metadata": {
        "id": "hmW4FH3l1LRA"
      },
      "execution_count": null,
      "outputs": []
    },
    {
      "cell_type": "code",
      "source": [
        ""
      ],
      "metadata": {
        "id": "3wv0Jdf-1LZG"
      },
      "execution_count": null,
      "outputs": []
    },
    {
      "cell_type": "code",
      "source": [
        "a = int(input('Informe o primeiro número: '))\n",
        "b = int(input('Informe o segundo número: '))\n",
        "c = int(input('Informe o terceiro número: '))\n",
        "\n",
        "if a < c:\n",
        "    a, c = c, a\n",
        "\n",
        "if a < b:\n",
        "    a, b = b, a\n",
        "\n",
        "if b < c:\n",
        "    b, c = c, b\n",
        "\n",
        "print('        ')\n",
        "print(f'A ordem decrescente é {a}, {b} e {c}')\n",
        "\n"
      ],
      "metadata": {
        "id": "VCc7dF9M1LeP"
      },
      "execution_count": null,
      "outputs": []
    },
    {
      "cell_type": "code",
      "source": [
        ""
      ],
      "metadata": {
        "id": "tbTyvHFJ_oOM"
      },
      "execution_count": null,
      "outputs": []
    },
    {
      "cell_type": "markdown",
      "source": [
        "#10 - Faça um Programa que pergunte em que turno você estuda. Peça para digitar M-matutino ou V-Vespertino ou N- Noturno. Imprima a mensagem \"Bom Dia!\", \"Boa Tarde!\" ou \"Boa Noite!\" ou \"Valor Inválido!\", conforme o caso."
      ],
      "metadata": {
        "id": "JXNpQjsr_ppt"
      }
    },
    {
      "cell_type": "code",
      "source": [
        "a = (input(\"Em que turno você estuda: \"))\n",
        "\n",
        "if (a=='M' or a=='m'):\n",
        " print(\"         \")\n",
        " print(\"Bom dia!\")\n",
        " print(\"    \")\n",
        "elif(a=='V' or a=='v'):\n",
        " print(\"         \")\n",
        " print(\"Boa tarde!\") \n",
        "elif(a=='N' or a=='n'):\n",
        " print(\"         \")\n",
        " print(\"Boa noite!\") \n",
        "else:\n",
        "  print(\"    \")\n",
        "  print(\"Valor inválido.\")"
      ],
      "metadata": {
        "colab": {
          "base_uri": "https://localhost:8080/"
        },
        "id": "FV7OpHrE_oVY",
        "outputId": "43565324-c1ba-4a90-d8b5-86a96e5f3a42"
      },
      "execution_count": null,
      "outputs": [
        {
          "output_type": "stream",
          "name": "stdout",
          "text": [
            "Em que turno você estuda: a\n",
            "    \n",
            "Valor inválido.\n"
          ]
        }
      ]
    },
    {
      "cell_type": "code",
      "source": [
        ""
      ],
      "metadata": {
        "id": "tUvBZkcp_odF"
      },
      "execution_count": null,
      "outputs": []
    },
    {
      "cell_type": "markdown",
      "source": [
        "# 11- As Organizações Tabajara resolveram dar um aumento de salário aos seus colaboradores e lhe contraram para desenvolver o programa que calculará os reajustes. Faça um programa que recebe o salário de um colaborador e o reajuste segundo o seguinte: critério, baseado no salário atual:"
      ],
      "metadata": {
        "id": "RczjgqZrEN8s"
      }
    },
    {
      "cell_type": "markdown",
      "source": [
        "Salários até R$ 280,00 (incluindo) : aumento de 20%.\n",
        "\n",
        "Salários entre R$ 280,00 e R$ 700,00 : aumento de 15%.\n",
        "\n",
        "Salários entre R$ 700,00 e R$ 1500,00 : aumento de 10%.\n",
        "\n",
        "Salários de R$ 1500,00 em diante : aumento de 5% ."
      ],
      "metadata": {
        "id": "tB6Tl7bvEm70"
      }
    },
    {
      "cell_type": "code",
      "source": [
        "a = float(input(\"Informe o seu salário: \"))\n",
        "\n",
        "if (a==280):\n",
        " print(\"         \")\n",
        " print(\"-O Salário, antes do reajuste, é R$\"+ str((a)))\n",
        " print(\"-Terá Reajuste de 20%\")\n",
        " print(\"-O valor do aumento é R$\" + str((a*0.20)))\n",
        " print(\"-O Salário com reajuste de 20%, corresponde a R$\"+ str((a+a*0.2)))\n",
        " print(\"    \")\n",
        "elif(a>=280 and a<=700):\n",
        " print(\"         \")\n",
        " print(\"-O Salário antes do reajuste, é R$\"+ str((a)))\n",
        " print(\"-Terá Reajuste de 15%\")\n",
        " print(\"-O valor do aumento é R$\"+ str((a*0.15)))\n",
        " print(\"-O Salário com reajuste de 15%, corresponde a R$\" +  str((a+a*0.15))) \n",
        "elif(a>=700 and a<=1500):\n",
        " print(\"         \")\n",
        " print(\"-O Salário antes do reajuste, é R$\"+ str((a)))\n",
        " print(\"-Terá Reajuste de 10%\")\n",
        " print(\"-O valor do aumento é R$\"+ str((a*0.10)))\n",
        " print(\"-O Salário com reajuste de 10%, corresponde a R$\" +  str((a+a*0.10)))\n",
        "elif(a>=1500):\n",
        " print(\"         \")\n",
        " print(\"-O Salário antes do reajuste, é R$\"+ str((a)))\n",
        " print(\"-Terá Reajuste de 5%\")\n",
        " print(\"-O valor do aumento é R$\"+ str((a*0.05)))\n",
        " print(\"-O Salário com reajuste de 10%, corresponde a R$\" +  str((a+a*0.05)))\n",
        " print(\"-O Salário com reajuste de 5%, corresponde a R$\"+ str((a+a*0.05))) \n",
        "else:\n",
        "  print(\"           \")\n",
        "  print(\"********O valor infomada está fora da faixa salarial*******\") "
      ],
      "metadata": {
        "colab": {
          "base_uri": "https://localhost:8080/"
        },
        "id": "k2xB0WLgANVE",
        "outputId": "b29c1a06-4c65-449c-84df-1e63042e6270"
      },
      "execution_count": null,
      "outputs": [
        {
          "output_type": "stream",
          "name": "stdout",
          "text": [
            "Informe o seu salário: 600000\n",
            "         \n",
            "-O Salário antes do reajuste, é R$600000.0\n",
            "-Terá Reajuste de 5%\n",
            "-O valor do aumento é R$30000.0\n",
            "-O Salário com reajuste de 10%, corresponde a R$630000.0\n",
            "-O Salário com reajuste de 5%, corresponde a R$630000.0\n"
          ]
        }
      ]
    },
    {
      "cell_type": "markdown",
      "source": [
        "# 12 - Faça um programa para o cálculo de uma folha de pagamento, sabendo que os descontos são do Imposto de Renda, que depende do salário bruto (conforme tabela abaixo) e 3% para o Sindicato e que o FGTS corresponde a 11% do Salário Bruto, mas não é descontado (é a empresa que deposita). O Salário Líquido corresponde ao Salário Bruto menos os descontos. O programa deverá pedir ao usuário o valor da sua hora e a quantidade de horas trabalhadas no mês."
      ],
      "metadata": {
        "id": "QsGR8NXQZLiF"
      }
    },
    {
      "cell_type": "markdown",
      "source": [
        "Desconto do IR:\n",
        "\n",
        "Salário Bruto até 900 (inclusive) - isento\n",
        "Salário Bruto até 1500 (inclusive) - desconto de 5%\n",
        "Salário Bruto até 2500 (inclusive) - desconto de 10%\n",
        "Salário Bruto acima de 2500 - desconto de 20% Imprima na tela as informações, dispostas conforme o exemplo abaixo. No exemplo o valor da hora é 5 e a quantidade de hora é 220."
      ],
      "metadata": {
        "id": "8dhICX1OZgMc"
      }
    },
    {
      "cell_type": "markdown",
      "source": [
        ""
      ],
      "metadata": {
        "id": "Y5FjAhObZbkV"
      }
    },
    {
      "cell_type": "code",
      "source": [
        ""
      ],
      "metadata": {
        "id": "JKdOMH3cANdF"
      },
      "execution_count": null,
      "outputs": []
    },
    {
      "cell_type": "code",
      "source": [
        "\n",
        "\n",
        "valor_hora = float(input(\"Informe o valor de salário por hora: \"))\n",
        "horas_trabalhadas =  float(input(\"Quantas horas trabalha por semana? \"))\n",
        "\n",
        "salario_bruto = valor_hora * horas_trabalhadas\n",
        "fgts = salario_bruto * 0.11\n",
        "sindicato = salario_bruto * 0.03\n",
        "\n",
        "\n",
        "if (salario_bruto<=900):\n",
        " print(\"         \")\n",
        " print(\"Funcionário isento dos descontos e o salario liquido é \" +str(salario_bruto-sindicato))\n",
        " print(\"    \")\n",
        "\n",
        "elif(salario_bruto>=900 and salario_bruto<=1500):\n",
        " print(\"         \")\n",
        " print(\"O Salário líquido é \"+ str(salario_bruto- (salario_bruto*0.05) - sindicato))\n",
        " \n",
        "elif(salario_bruto>=1500 and salario_bruto<=2500):\n",
        " print(\"         \")\n",
        " print(\"O Salário líquido é R$ \"+ str(salario_bruto - (salario_bruto*0.10) - sindicato))\n",
        " \n",
        "else:\n",
        "  print(\"           \")\n",
        "  print(\"O Salário líquido é R$ \"+ str(salario_bruto - (salario_bruto*0.20) - sindicato))\n",
        "\n",
        "print(\"O valor de seu FGTS e de: %7.2f\" % fgts)\n",
        "print(\"O sindicato vai te levar: %7.2f\" % sindicato)\n",
        "print(\"Seu salario liquido e de: %7.2f\" % salario_bruto) "
      ],
      "metadata": {
        "colab": {
          "base_uri": "https://localhost:8080/"
        },
        "id": "98j-HUGSP84G",
        "outputId": "706d4f25-2595-4130-90df-c844d0f2408f"
      },
      "execution_count": null,
      "outputs": [
        {
          "output_type": "stream",
          "name": "stdout",
          "text": [
            "Informe o valor de salário por hora: 10\n",
            "Quantas horas trabalha por semana? 90\n",
            "         \n",
            "Funcionário isento dos descontos e o salario liquido é 873.0\n",
            "    \n",
            "O valor de seu FGTS e de:   99.00\n",
            "O sindicato vai te levar:   27.00\n",
            "Seu salario liquido e de:  900.00\n"
          ]
        }
      ]
    },
    {
      "cell_type": "code",
      "source": [
        ""
      ],
      "metadata": {
        "id": "BEsLfgx7P9KG"
      },
      "execution_count": null,
      "outputs": []
    },
    {
      "cell_type": "markdown",
      "source": [
        "# 13 - Faça um Programa que leia um número e exiba o dia correspondente da semana. (1-Domingo, 2- Segunda, etc.), se digitar outro valor deve aparecer valor inválido."
      ],
      "metadata": {
        "id": "TBts4lh50DDg"
      }
    },
    {
      "cell_type": "code",
      "source": [
        "a = int(input(\"Informe um número: \"))\n",
        "\n",
        "if a== 1:\n",
        "  print('Domingo')\n",
        "elif a==2:\n",
        "  print('Segunda')\n",
        "elif a==3:\n",
        " print('Terça')\n",
        "elif a==4:\n",
        "  print('Quarta')\n",
        "elif a==5:\n",
        " print('Quinta')\n",
        "elif a==6:\n",
        "  print('Sexta')\n",
        "else:\n",
        " print('Sábado')"
      ],
      "metadata": {
        "colab": {
          "base_uri": "https://localhost:8080/"
        },
        "id": "7gelh5Sh0BzD",
        "outputId": "659e0cfb-5941-4563-c28e-4c5dce9ef5fc"
      },
      "execution_count": null,
      "outputs": [
        {
          "output_type": "stream",
          "name": "stdout",
          "text": [
            "Informe um número: 1\n",
            "Domingo\n"
          ]
        }
      ]
    },
    {
      "cell_type": "code",
      "source": [
        ""
      ],
      "metadata": {
        "id": "lKhPR5hR3-wS"
      },
      "execution_count": null,
      "outputs": []
    },
    {
      "cell_type": "markdown",
      "source": [
        "# 14 - Faça um programa que lê as duas notas parciais obtidas por um aluno numa disciplina ao longo de um semestre, e calcule a sua média. A atribuição de conceitos obedece à tabela abaixo:"
      ],
      "metadata": {
        "id": "HphQaGon4JRq"
      }
    },
    {
      "cell_type": "code",
      "source": [
        "a = float(input('Informe a primeira nota:' ))\n",
        "b = float(input('Informe a segunda nota:' ))\n",
        "c = float(input('Informe a terceira nota:' ))\n",
        "print('           ')\n",
        "\n",
        "media = (a+b+c)/3\n",
        "\n",
        "if media>=9.0 and media<=10:\n",
        "  print('Media de aproveitamento,' + str(media) + ' Conceito A - Aprovado!')\n",
        "elif media>=7.5 and media<=9.0:\n",
        "  print('Media de aproveitamento,' + str(media) + ' Conceito B - Aprovado!')\n",
        "elif media>=6.0 and media<=7.5:\n",
        "  print('Media de aproveitamento,' + str(media) + ' Conceito C - Aprovado!')\n",
        "elif media>=4.0 and media<=6.0:\n",
        "  print('Media de aproveitamento,' + str(media) + ' Conceito D - Reprovado!')\n",
        "elif media<=4.0 and media>=0.0:\n",
        "  print('Media de aproveitamento,' + str(media) + ' Conceito E - Reprovado!')\n",
        "else:\n",
        "  print('*********Opção inválida************')"
      ],
      "metadata": {
        "colab": {
          "base_uri": "https://localhost:8080/"
        },
        "id": "0TpPBvWK3_Be",
        "outputId": "0eae1728-6bf0-4804-b3fb-3fc01251ef3a"
      },
      "execution_count": null,
      "outputs": [
        {
          "output_type": "stream",
          "name": "stdout",
          "text": [
            "Informe a primeira nota:3\n",
            "Informe a segunda nota:3\n",
            "Informe a terceira nota:3\n",
            "           \n",
            "Media de aproveitamento,3.0 Conceito E - Reprovado!\n"
          ]
        }
      ]
    },
    {
      "cell_type": "code",
      "source": [
        ""
      ],
      "metadata": {
        "id": "Xhfs4YMR3_I7"
      },
      "execution_count": null,
      "outputs": []
    },
    {
      "cell_type": "code",
      "source": [
        ""
      ],
      "metadata": {
        "id": "S77ue67x-hRJ"
      },
      "execution_count": null,
      "outputs": []
    },
    {
      "cell_type": "markdown",
      "source": [
        "# 15 - Faça um Programa que peça os 3 lados de um triângulo. O programa deverá informar se os valores podem ser um triângulo. Indique, caso os lados formem um triângulo, se o mesmo é: equilátero, isósceles ou escaleno."
      ],
      "metadata": {
        "id": "VUjKQroQVvOu"
      }
    },
    {
      "cell_type": "markdown",
      "source": [
        "Dicas:\n",
        "\n",
        "Três lados formam um triângulo quando a soma de quaisquer dois lados for maior que o terceiro;\n",
        "\n",
        "Triângulo Equilátero: três lados iguais;\n",
        "\n",
        "Triângulo Isósceles: quaisquer dois lados iguais;\n",
        "\n",
        "Triângulo Escaleno: três lados diferentes;"
      ],
      "metadata": {
        "id": "bLXNc1oifCVj"
      }
    },
    {
      "cell_type": "code",
      "source": [
        "a = int(input(\"Informe a base do tringulo: \"))\n",
        "b = int(input(\"Informe a altura do tringulo: \"))\n",
        "c = int(input(\"Informe a altura do tringulo: \"))\n",
        "\n",
        "print(\"   \")\n",
        "print('*************O lados informados formam um tringulo.*************')\n",
        "\n",
        "if a==b==c:\n",
        "  print(\"   \")\n",
        "  print(\"O tringulo formado é equilátero \")\n",
        "elif a + b > c : # ou a == b and b!=c\n",
        "  print(\"   \")\n",
        "  print(\"Tringulo isósceles\")\n",
        "else:\n",
        "  print(\"   \")\n",
        "  print(\"Tringulo Escaleno\")\n",
        "print(\"   \")\n"
      ],
      "metadata": {
        "colab": {
          "base_uri": "https://localhost:8080/"
        },
        "id": "86dLKjh9-hYO",
        "outputId": "8749c649-4a9c-4453-8ee6-ba54426c71d8"
      },
      "execution_count": null,
      "outputs": [
        {
          "output_type": "stream",
          "name": "stdout",
          "text": [
            "Informe a base do tringulo: 3\n",
            "Informe a altura do tringulo: 2\n",
            "Informe a altura do tringulo: 5\n",
            "*************O lados informados formam um tringulo.*************\n",
            "   \n",
            "Tringulo Escaleno\n",
            "   \n"
          ]
        }
      ]
    },
    {
      "cell_type": "code",
      "source": [
        ""
      ],
      "metadata": {
        "id": "8ABmsrr4-heh"
      },
      "execution_count": null,
      "outputs": []
    },
    {
      "cell_type": "markdown",
      "source": [
        "# 16 - Faça um programa que calcule as raízes de uma equação do segundo grau, na forma ax2 + bx + c. O programa deverá pedir os valores de a, b e c e fazer as consistências, informando ao usuário nas seguintes situações:"
      ],
      "metadata": {
        "id": "bGidZUXwfOR3"
      }
    },
    {
      "cell_type": "markdown",
      "source": [
        "a)- Se o usuário informar o valor de A igual a zero, a equação não é do segundo grau e o programa não deve fazer pedir os demais valores, sendo encerrado;"
      ],
      "metadata": {
        "id": "M6wVvm3wfYps"
      }
    },
    {
      "cell_type": "code",
      "source": [
        "import math\n",
        "\n",
        "a = int(input(\"Informe o primeiro valor da raiz: \"))\n",
        "\n",
        "\n",
        "if a==0:\n",
        " print('Saindo...')\n",
        " exit()\n",
        "\n",
        "else:\n",
        "  b = int(input(\"Informe o segundo valor da raiz: \"))\n",
        "  c = int(input(\"Informe o terceiro valor da raiz: \"))\n",
        "\n",
        "  delta = b**2 - 4*a*c\n",
        "\n",
        "  if delta < 0 :\n",
        "   print(\"   \")\n",
        "   print(\"A equação não possui raizes reais\")\n",
        "  elif delta == 0:\n",
        "    raiz = -b / (2*a)\n",
        "    print(\"   \")\n",
        "    print(\"A equação possui apenas uma raiz real, a qual é \" + str(raiz))\n",
        "    print(\"   \")\n",
        "  else:\n",
        "   raiz1 = (-b + math.sqrt(delta) ) / (2*a)\n",
        "   raiz2 = (-b - math.sqrt(delta) ) / (2*a)\n",
        "   print(\"   \")\n",
        "   print(\"A equação possui duas raizes reais.\")\n",
        "   print('Raizes: ',raiz1,' e ',raiz2)\n"
      ],
      "metadata": {
        "id": "gz0X7xKe-hk6",
        "colab": {
          "base_uri": "https://localhost:8080/"
        },
        "outputId": "cc2d617c-1014-4d69-beba-9cefea7381be"
      },
      "execution_count": 1,
      "outputs": [
        {
          "output_type": "stream",
          "name": "stdout",
          "text": [
            "Informe o primeiro valor da raiz: -3\n",
            "Informe o segundo valor da raiz: -3\n",
            "Informe o terceiro valor da raiz: -3\n",
            "A equação não possui raizes reais\n"
          ]
        }
      ]
    },
    {
      "cell_type": "markdown",
      "source": [
        "# 17 - Faça um Programa que peça um número correspondente a um determinado ano e em seguida informe se este ano é ou não bissexto."
      ],
      "metadata": {
        "id": "vflUOmFRTc24"
      }
    },
    {
      "cell_type": "code",
      "source": [
        "a = int(input(\"Informe o total de dias dum ano: \"))\n",
        "\n",
        "\n",
        "if a==366:\n",
        "  print('        ')\n",
        "  print('O número corresponde ao ano bissexto')\n",
        "elif a==365:\n",
        "  print(\"   \")\n",
        "  print('O número corresponde ao ano comum')\n",
        "else:\n",
        "  print(\"******Opção inválida*********\")\n",
        " "
      ],
      "metadata": {
        "id": "N1g-ASqCTU5O",
        "colab": {
          "base_uri": "https://localhost:8080/"
        },
        "outputId": "457916a2-9e3a-4bdd-ccfb-b4263235c894"
      },
      "execution_count": 7,
      "outputs": [
        {
          "output_type": "stream",
          "name": "stdout",
          "text": [
            "Informe o total de dias dum ano: 366\n",
            "        \n",
            "O número corresponde ao ano bissexto\n"
          ]
        }
      ]
    },
    {
      "cell_type": "code",
      "source": [
        "\"0\""
      ],
      "metadata": {
        "id": "LKKNiNKh3_Os"
      },
      "execution_count": null,
      "outputs": []
    },
    {
      "cell_type": "code",
      "source": [
        ""
      ],
      "metadata": {
        "id": "Zx7NT1VmX1V9"
      },
      "execution_count": null,
      "outputs": []
    },
    {
      "cell_type": "markdown",
      "source": [
        ""
      ],
      "metadata": {
        "id": "V5C7ub6TX7eB"
      }
    },
    {
      "cell_type": "markdown",
      "source": [
        "# 18 - Faça um Programa que peça uma data no formato dd/mm/aaaa e determine se a mesma é uma data válida."
      ],
      "metadata": {
        "id": "Xb2DCiEJX2e3"
      }
    },
    {
      "cell_type": "code",
      "source": [
        "dia = int( input('Dia: ') )\n",
        "mes = int( input('Mês: ') )\n",
        "ano = int( input('Ano: ') )\n",
        "\n",
        "# Meses com 31 dias\n",
        "if( mes==1 or mes==3 or mes==5 or mes==7 or mes==8 or mes==10 or mes==12):\n",
        "    if(dia<=31):\n",
        "            valida = True\n",
        "# Meses com 30 dias\n",
        "    elif( mes==4 or mes==6 or mes==9 or mes==11):\n",
        "        if(dia<=30):\n",
        "            valida = True\n",
        "    elif mes==2:\n",
        "\n",
        " # Testa se é bissexto\n",
        "        if (ano%4==0 and ano%100!=0) or (ano%400==0):\n",
        "            if(dia<=29):\n",
        "                valida = True\n",
        "        elif(dia<=28):\n",
        "                valida = True\n",
        "\n",
        "if(valida):\n",
        "        print('    ')\n",
        "        print('Data válida')\n",
        "else:\n",
        "        print('    ')\n",
        "        print('Inválida')"
      ],
      "metadata": {
        "colab": {
          "base_uri": "https://localhost:8080/"
        },
        "id": "dVAH2enJX1QV",
        "outputId": "c0f8b517-0b1c-4ec3-8cc1-010e22eec574"
      },
      "execution_count": 11,
      "outputs": [
        {
          "output_type": "stream",
          "name": "stdout",
          "text": [
            "Dia: 99\n",
            "Mês: 93\n",
            "Ano: 4493\n",
            "    \n",
            "Data válida\n"
          ]
        }
      ]
    },
    {
      "cell_type": "code",
      "source": [
        ""
      ],
      "metadata": {
        "id": "bDCJpkGjX1KL"
      },
      "execution_count": null,
      "outputs": []
    },
    {
      "cell_type": "markdown",
      "source": [
        "# 19- Faça um Programa que leia um número inteiro menor que 1000 e imprima a quantidade de centenas, dezenas e unidades do mesmo."
      ],
      "metadata": {
        "id": "_6782LOMYxf7"
      }
    },
    {
      "cell_type": "code",
      "source": [
        "numero = int(input(\"Informe um numero na faixa de centena: \"))\n",
        "print(\"        \")\n",
        "\n",
        "\n",
        "unidade = numero % 10            # Para achar a unidade é so fazer o resto da divisão da centena.\n",
        "numero = (numero - unidade)/10   # Para eliminara unidade do valor. Passa de 555 pra 555-5 = 550 / 10 = 55 \n",
        "dezena = numero % 10             # Extração da dezena. O que seria  dezena = 55 % 10 \n",
        "\n",
        "numero = (numero - dezena)/10    # Eliminando a dezena do número original, fica a centena\n",
        "centena = numero\n",
        "\n",
        "print(\"Tem-se \"+ str(centena)+ \" centena (s)\")\n",
        "print(\"Tem-se \"+str(dezena)+ \" dezena(s)\")\n",
        "print(\"Tem-se \"+str(unidade)+ \" unidade(s)\")"
      ],
      "metadata": {
        "colab": {
          "base_uri": "https://localhost:8080/"
        },
        "id": "brtWbs49Y1pg",
        "outputId": "eee6553b-9f0d-4df2-9d78-520e619dee20"
      },
      "execution_count": 17,
      "outputs": [
        {
          "output_type": "stream",
          "name": "stdout",
          "text": [
            "Informe um numero na faixa de centena: 483\n",
            "        \n",
            "Tem-se 4.0 centena (s)\n",
            "Tem-se 8.0 dezena(s)\n",
            "Tem-se 3 unidade(s)\n"
          ]
        }
      ]
    },
    {
      "cell_type": "code",
      "source": [
        ""
      ],
      "metadata": {
        "id": "ni7i0GQ-82LF"
      },
      "execution_count": null,
      "outputs": []
    },
    {
      "cell_type": "markdown",
      "source": [
        "# 20 - Faça um Programa para leitura de três notas parciais de um aluno. O programa deve calcular a média alcançada por aluno e presentar:"
      ],
      "metadata": {
        "id": "tH1HYQqm7IM7"
      }
    },
    {
      "cell_type": "markdown",
      "source": [
        "a)- A mensagem \"Aprovado\", se a média for maior ou igual a 7, com a respectiva média alcançada;\n",
        "\n",
        "b) - A mensagem \"Reprovado\", se a média for menor do que 7, com a respectiva média alcançada;\n",
        "\n",
        "c) - A mensagem \"Aprovado com Distinção\", se a média for igual a 10."
      ],
      "metadata": {
        "id": "cnqrQNQK7SY3"
      }
    },
    {
      "cell_type": "code",
      "source": [
        "nota1 = float(input('Informe o primeiro número: '))\n",
        "nota2 = float(input('Informe o segundo número: '))\n",
        "nota3 = float(input('Informe o terceiro número: '))\n",
        "media = float (nota1+nota2+nota3)/3\n",
        "\n",
        "if (media>=7 and media<=9.9):\n",
        "  print(\"    \")\n",
        "  print('Aluno(a) aprovado(a) com a nota '+ str(media))\n",
        "elif(media<=6.9):\n",
        "  print(\"    \")\n",
        "  print('Aluno(a) reprovado(a) com a nota '+ str(media))\n",
        "else:\n",
        "  print(\"    \")\n",
        "  print('Aluno(a) aprovado(a) com distinção, tendo obtido '+ str(media)+ ' valores')"
      ],
      "metadata": {
        "colab": {
          "base_uri": "https://localhost:8080/"
        },
        "id": "dbOtTIU6Y1Xq",
        "outputId": "fb75f8bc-ba85-4531-a0e7-39f3ea55e013"
      },
      "execution_count": 4,
      "outputs": [
        {
          "output_type": "stream",
          "name": "stdout",
          "text": [
            "Informe o primeiro número: 9.7\n",
            "Informe o segundo número: 8.7\n",
            "Informe o terceiro número: 7.6\n",
            "    \n",
            "Aluno(a) aprovado(a) com a nota 8.666666666666666\n"
          ]
        }
      ]
    },
    {
      "cell_type": "code",
      "source": [
        ""
      ],
      "metadata": {
        "id": "mjNEeZTcX0-V"
      },
      "execution_count": null,
      "outputs": []
    },
    {
      "cell_type": "markdown",
      "source": [
        "# 21 - Faça um Programa para um caixa eletrônico. O programa deverá perguntar ao usuário a valor do saque e depois informar quantas notas de cada valor serão fornecidas. As notas disponíveis serão as de 1, 5, 10, 50 e 100 reais. O valor mínimo é de 10 reais e o máximo de 600 reais. O programa não deve se preocupar com a quantidade de notas existentes na máquina."
      ],
      "metadata": {
        "id": "51Lje5D290UO"
      }
    },
    {
      "cell_type": "code",
      "source": [
        "\n",
        "numero = int(input('Valor para sacar [10-600]: '))\n",
        "\n",
        "cem = int(numero / 100)\n",
        "numero = numero - (cem*100)\n",
        "    \n",
        "cinquenta = int(numero/50)\n",
        "numero = numero - (cinquenta*50)\n",
        "\n",
        "dez = int(numero/10)\n",
        "numero = numero - (dez*10)\n",
        "\n",
        "cinco = int(numero/5)\n",
        "numero = numero - (cinco*5)\n",
        "\n",
        "um = numero\n",
        "    \n",
        "print('Notas R$100,00 = ',cem)\n",
        "print('Notas R$ 50,00 = ',cinquenta)\n",
        "print('Notas R$ 10,00 = ',dez)\n",
        "print('Notas R$  5,00 = ',cinco)\n",
        "print('Notas R$  1,00 = ',um)\n",
        "\n"
      ],
      "metadata": {
        "colab": {
          "base_uri": "https://localhost:8080/"
        },
        "id": "HNZrM4UD9xgG",
        "outputId": "2b45ce39-e8ac-47fc-9de1-707dc9b0814c"
      },
      "execution_count": 8,
      "outputs": [
        {
          "output_type": "stream",
          "name": "stdout",
          "text": [
            "Valor para sacar [10-600]: 349\n",
            "Notas R$100,00 =  3\n",
            "Notas R$ 50,00 =  0\n",
            "Notas R$ 10,00 =  4\n",
            "Notas R$  5,00 =  1\n",
            "Notas R$  1,00 =  4\n",
            "Valor para sacar [10-600]: 349\n",
            "Notas R$100,00 =  3\n",
            "Notas R$ 50,00 =  0\n",
            "Notas R$ 10,00 =  4\n",
            "Notas R$  5,00 =  1\n",
            "Notas R$  1,00 =  4\n"
          ]
        }
      ]
    },
    {
      "cell_type": "code",
      "source": [
        ""
      ],
      "metadata": {
        "id": "GO69_Ht99xob"
      },
      "execution_count": null,
      "outputs": []
    },
    {
      "cell_type": "markdown",
      "source": [
        "# 22 - Faça um Programa que peça um número inteiro e determine se ele é par ou impar. Dica: utilize o operador módulo (resto da divisão)."
      ],
      "metadata": {
        "id": "9u1917xvAN0i"
      }
    },
    {
      "cell_type": "code",
      "source": [
        "a = int(input('Digite um valor inteiro: '))\n",
        "\n",
        "if (a%2) == 0:\n",
        "        print(\"O número é Par.\")\n",
        "else:\n",
        "        print(\"O número é ímpar\")\n"
      ],
      "metadata": {
        "colab": {
          "base_uri": "https://localhost:8080/"
        },
        "id": "MUdjJQhG9xwI",
        "outputId": "6ebb5a29-1ac4-416c-e1e6-f2cf7a2941f3"
      },
      "execution_count": 10,
      "outputs": [
        {
          "output_type": "stream",
          "name": "stdout",
          "text": [
            "Digite um valor inteiro: 5\n",
            "O número é ímpar\n"
          ]
        }
      ]
    },
    {
      "cell_type": "code",
      "source": [
        ""
      ],
      "metadata": {
        "id": "K0dtJBCt9x3s"
      },
      "execution_count": null,
      "outputs": []
    },
    {
      "cell_type": "markdown",
      "source": [
        "#23 - Faça um Programa que peça um número e informe se o número é inteiro ou decimal. Dica: utilize uma função de arredondamento.\n"
      ],
      "metadata": {
        "id": "Wy1wSht8B1XB"
      }
    },
    {
      "cell_type": "code",
      "source": [
        "a = float(input(\"Digite um número: \"))\n",
        "if a % 1 == 0:\n",
        "    print(\"Inteiro\")\n",
        "else:\n",
        "    print(\"Decimal\")"
      ],
      "metadata": {
        "colab": {
          "base_uri": "https://localhost:8080/"
        },
        "id": "-lgLx5ftBoUX",
        "outputId": "6dd1edd1-806f-4c56-f39b-2360651c4638"
      },
      "execution_count": 13,
      "outputs": [
        {
          "output_type": "stream",
          "name": "stdout",
          "text": [
            "Digite um número: 4.5\n",
            "Decimal\n"
          ]
        }
      ]
    },
    {
      "cell_type": "code",
      "source": [
        ""
      ],
      "metadata": {
        "id": "s2eJzRoaBoNi"
      },
      "execution_count": null,
      "outputs": []
    },
    {
      "cell_type": "markdown",
      "source": [
        "# 24 - Faça um Programa que leia 2 números e em seguida pergunte ao usuário qual operação ele deseja realizar. O resultado da operação deve ser acompanhado de uma frase que diga se o número é:\n",
        "par ou ímpar;\n",
        "positivo ou negativo;\n",
        "inteiro ou decimal."
      ],
      "metadata": {
        "id": "98v14BzQC85j"
      }
    },
    {
      "cell_type": "code",
      "source": [
        "\n",
        "numero1 = float(input(\"Digite o número 1: \"))\n",
        "numero2 = float(input(\"Digite o número 2: \"))\n",
        "operacao = input(\"Digite a operação que deseja realizar: [+, -, /, *]: \")\n",
        "\n",
        "\n",
        "def checar():\n",
        "    if (resultado_operacao // 1 == resultado_operacao):\n",
        "        print(\"Inteiro\")\n",
        "        if resultado_operacao % 2 == 0:\n",
        "            print(\"Par\")\n",
        "            if resultado_operacao > 0:\n",
        "                print(\"Positivo\")\n",
        "            else:\n",
        "                print(\"Negativo\")\n",
        "        else:\n",
        "            print(\"Impar\")\n",
        "    else:\n",
        "        print(\"Decimal\")\n",
        "\n",
        "\n",
        "if operacao == '+':\n",
        "    resultado_operacao = numero1 + numero2\n",
        "    print(\"Resultado: \", resultado_operacao)\n",
        "    checar()\n",
        "elif operacao == '-':\n",
        "    resultado_operacao = numero1 - numero2\n",
        "    print(\"Resultado: \", resultado_operacao)\n",
        "    checar()\n",
        "elif operacao == '/':\n",
        "    resultado_operacao = numero1 / numero2\n",
        "    print(\"Resultado: \", resultado_operacao)\n",
        "    checar()\n",
        "elif operacao == '*':\n",
        "    resultado_operacao = numero1 * numero2\n",
        "    print(\"Resultado: \", resultado_operacao)\n",
        "    checar()\n",
        "else:\n",
        "    print(\"Valor Invalido\")"
      ],
      "metadata": {
        "colab": {
          "base_uri": "https://localhost:8080/"
        },
        "id": "H8W7eRENBoHI",
        "outputId": "d0d31b64-36eb-49d2-b8d6-260f18846152"
      },
      "execution_count": 14,
      "outputs": [
        {
          "output_type": "stream",
          "name": "stdout",
          "text": [
            "Digite o número 1: 43\n",
            "Digite o número 2: 34\n",
            "Digite a operação que deseja realizar: [+, -, /, *]: +\n",
            "Resultado:  77.0\n",
            "Inteiro\n",
            "Impar\n"
          ]
        }
      ]
    },
    {
      "cell_type": "code",
      "source": [
        ""
      ],
      "metadata": {
        "id": "QQdbYWutDafq"
      },
      "execution_count": null,
      "outputs": []
    },
    {
      "cell_type": "code",
      "source": [
        ""
      ],
      "metadata": {
        "id": "xPQe7larDaUw"
      },
      "execution_count": null,
      "outputs": []
    },
    {
      "cell_type": "markdown",
      "source": [
        "# 25 - Faça um programa que faça 5 perguntas para uma pessoa sobre um crime. As perguntas são:\n",
        "\n",
        "\"Telefonou para a vítima?\"\n",
        "\n",
        "\"Esteve no local do crime?\"\n",
        "\n",
        "\"Mora perto da vítima?\"\n",
        "\n",
        "\"Devia para a vítima?\"\n",
        "\n",
        "\"Já trabalhou com a vítima?\" \n",
        "\n",
        "O programa deve no final emitir uma classificação sobre a participação da pessoa no crime. Se a pessoa responder positivamente a 2 questões ela deve ser classificada como \"Suspeita\", entre 3 e 4 como \"Cúmplice\" e 5 como \"Assassino\""
      ],
      "metadata": {
        "id": "G8cU4qwKMPbI"
      }
    },
    {
      "cell_type": "code",
      "source": [
        "\n",
        "\n",
        "def gerarPerguntas():\n",
        "  \n",
        "    #armazenamento das afirmações\n",
        "\n",
        "  quantidade_positivo = 0\n",
        "    \n",
        "  #status da resposta.\n",
        "  status = {2 : \"Suspeito(a)\",\n",
        "            3 : \"Cúmplice\",\n",
        "            4 : \"Cúmplice\",\n",
        "            5 : \"Assassino\"}\n",
        "\n",
        "  #armazenar uma lista de perguntas.\n",
        "  lista_perguntas = [\"Telefonou para a vítima?\",\n",
        "                      \"Esteve no local do crime?\",\n",
        "                      \"Mora perto da vítima?\",\n",
        "                      \"Devia para a vítima?\",\n",
        "                      \"Já trabalhou com a vítima?\"]\n",
        "              \n",
        "  #fazer as perguntas.\n",
        "  for index in len(lista_perguntas):\n",
        "        #efetuar a pergunta.\n",
        "        print (lista_perguntas[index] + \" (sim ou não).\")\n",
        "        \n",
        "        #Obter uma resposta.\n",
        "        resposta = input(\"Resp.:\")\n",
        "        \n",
        "        #Analisar a resposta e se for positivo incrementar o valor\n",
        "  if resposta.lower() == \"sim\":\n",
        "            #incrementar mais um.\n",
        "            quantidade_positivo += 1\n",
        "            \n",
        "    #Verificar compatibilidade dos dados com o status.\n",
        "  if quantidade_positivo in status:\n",
        "        #Titular o status da pessoa.\n",
        "         print(status[quantidade_positivo])\n",
        "        \n",
        "  else:\n",
        "          print (\"Inocente\")"
      ],
      "metadata": {
        "id": "dxZrSfOoDZ8l"
      },
      "execution_count": 28,
      "outputs": []
    },
    {
      "cell_type": "code",
      "source": [
        ""
      ],
      "metadata": {
        "id": "GkuXtv9FDZyd"
      },
      "execution_count": null,
      "outputs": []
    },
    {
      "cell_type": "code",
      "source": [
        ""
      ],
      "metadata": {
        "id": "WyG6OH1rPsxf"
      },
      "execution_count": null,
      "outputs": []
    },
    {
      "cell_type": "markdown",
      "source": [
        "# 26 - Um posto está vendendo combustíveis com a seguinte tabela de descontos:\n",
        "Álcool: até 20 litros, desconto de 3% por litro\n",
        "acima de 20 litros, desconto de 5% por litro\n",
        "\n",
        "Gasolina: até 20 litros, desconto de 4% por litro\n",
        "acima de 20 litros, desconto de 6% por litro Escreva um algoritmo que leia o número de litros vendidos, o tipo de combustível (codificado da seguinte forma:\n",
        "\n",
        " A-álcool, G-gasolina), calcule e imprima o valor a ser pago pelo cliente sabendo-se que o preço do litro da gasolina é R$ 2,50 o preço do litro do álcool é R$ 1,90."
      ],
      "metadata": {
        "id": "DsZi6JGJPui_"
      }
    },
    {
      "cell_type": "code",
      "source": [
        "\n",
        "litros = float(input(\"Digite quantos litros a abastecer: \"))\n",
        "combustivel = input(\"Digite A para álcool ou G para gasolina: \")\n",
        "preco = 0\n",
        "if combustivel == \"A\" or combustivel == \"a\":\n",
        "    preco = litros * 1.9\n",
        "    if litros <= 20:\n",
        "        preco -= 1.9 * litros * 0.03\n",
        "    else:\n",
        "        preco -= 1.9 * litros * 0.05\n",
        "elif combustivel == \"G\" or combustivel == \"g\":\n",
        "    preco = litros * 2.5\n",
        "    if litros <= 20:\n",
        "        preco -= 2.5 * litros * 0.04\n",
        "    else:\n",
        "        preco -= 2.5 * litros * 0.06\n",
        "print(f\"     \")\n",
        "print(f\"O preço a pagar é R${preco:.2f}\")"
      ],
      "metadata": {
        "colab": {
          "base_uri": "https://localhost:8080/"
        },
        "id": "T1mR1-mkOu-l",
        "outputId": "a45d66ef-0f7b-45f3-f0d4-445e86f6454d"
      },
      "execution_count": 33,
      "outputs": [
        {
          "output_type": "stream",
          "name": "stdout",
          "text": [
            "Digite quantos litros a abastecer: 20\n",
            "Digite A para álcool ou G para gasolina: a\n",
            "     \n",
            "O preço a pagar é R$36.86\n"
          ]
        }
      ]
    },
    {
      "cell_type": "code",
      "source": [
        ""
      ],
      "metadata": {
        "id": "kyglg46ROu5R"
      },
      "execution_count": null,
      "outputs": []
    },
    {
      "cell_type": "code",
      "source": [
        ""
      ],
      "metadata": {
        "id": "2kP9B9RgQIuU"
      },
      "execution_count": null,
      "outputs": []
    },
    {
      "cell_type": "markdown",
      "source": [
        "# 27 - Uma fruteira está vendendo frutas com a seguinte tabela de preços:\n",
        "\n",
        "                      Até 5 Kg           Acima de 5 Kg\n",
        "\n",
        "Morango          R$ 2,50 por  Kg           R$ 2,20 por Kg\n",
        "\n",
        "Maçã            R$ 1,80 por Kg           R$ 1,50 por Kg\n",
        "\n",
        "\n",
        "Se o cliente comprar mais de 8 Kg em frutas ou o valor total da compra ultrapassar R$ 25,00, receberá ainda um desconto de 10% sobre este total. Escreva um algoritmo para ler a quantidade (em Kg) de morangos e a quantidade (em Kg) de maças adquiridas e escreva o valor a ser pago pelo cliente."
      ],
      "metadata": {
        "id": "fFgAyWE-QJuA"
      }
    },
    {
      "cell_type": "code",
      "source": [
        "\n",
        "\n",
        "\n",
        "morangos = int(input(\"Digite a quantidade de morangos [kg]: \"))\n",
        "macas = int(input(\"Digite a quantidade de maças [kg]: \"))\n",
        "preco_morango1 = morangos * 2.50\n",
        "preco_morango2 = morangos * 2.20\n",
        "\n",
        "preco_maca1 = macas * 1.80\n",
        "preco_maca2 = macas * 1.50\n",
        "\n",
        "print(\"quantidade de maçãs: \", macas, \"\\nQuantidade de morangos: \", morangos)\n",
        "\n",
        "if morangos > 5:\n",
        "    preco_certo_morango = preco_morango1\n",
        "else:\n",
        "    preco_certo_morango = preco_morango2\n",
        "\n",
        "if macas > 5:\n",
        "    preco_certo_maca = preco_maca1\n",
        "else:\n",
        "    preco_certo_maca = preco_maca2\n",
        "\n",
        "preco_total = preco_certo_maca + preco_certo_morango\n",
        "\n",
        "if preco_total > 25 or (macas + morangos) > 8:\n",
        "    print(\"Preço final: \", (preco_total - (preco_total * 0.1)))\n",
        "else:\n",
        "    print(\"Preço final: \", preco_total)"
      ],
      "metadata": {
        "colab": {
          "base_uri": "https://localhost:8080/"
        },
        "id": "LZqXU0hQQIeB",
        "outputId": "7939bc7d-6bef-471d-f314-4036306d7bc6"
      },
      "execution_count": 34,
      "outputs": [
        {
          "output_type": "stream",
          "name": "stdout",
          "text": [
            "Digite a quantidade de morangos [kg]: 10\n",
            "Digite a quantidade de maças [kg]: 10\n",
            "quantidade de maçãs:  10 \n",
            "Quantidade de morangos:  10\n",
            "Preço final:  38.7\n"
          ]
        }
      ]
    },
    {
      "cell_type": "code",
      "source": [
        ""
      ],
      "metadata": {
        "id": "JpxH157PDZpW"
      },
      "execution_count": null,
      "outputs": []
    },
    {
      "cell_type": "code",
      "source": [
        ""
      ],
      "metadata": {
        "id": "d7ItaONwDZfI"
      },
      "execution_count": null,
      "outputs": []
    },
    {
      "cell_type": "markdown",
      "source": [
        "# O Hipermercado Tabajara está com uma promoção de carnes que é imperdível. Confira:\n",
        "#                      Até 5 Kg           Acima de 5 Kg\n",
        "#  File Duplo      R$ 4,90 por Kg          R$ 5,80 por Kg\n",
        "#  Alcatra         R$ 5,90 por Kg          R$ 6,80 por Kg\n",
        "#  Picanha         R$ 6,90 por Kg          R$ 7,80 por Kg"
      ],
      "metadata": {
        "id": "-lWcOmV-t2T3"
      }
    },
    {
      "cell_type": "code",
      "source": [
        ""
      ],
      "metadata": {
        "id": "IRBTSBReuGAx"
      },
      "execution_count": null,
      "outputs": []
    },
    {
      "cell_type": "code",
      "source": [
        "print(\"1- File Duplo\\n2- Alcatra\\n3- Picanha\\n\\n\")\n",
        "tipo = int(input(\"Digite o tipo: \"))\n",
        "quantidade = int(input(\"Digite a quantidade comprada: \"))\n",
        "resposta = int(input(\"A compra será realizada com cartao Tabajara? 1p/ SIM - 2p/ NAO: \"))\n",
        "\n",
        "if tipo == 1:\n",
        "    nome = \"File Duplo\"\n",
        "    if quantidade <= 5:\n",
        "        preco = quantidade * 4.90\n",
        "    else:\n",
        "        preco = quantidade * 5.80\n",
        "        \n",
        "if tipo == 2:\n",
        "    nome = \"Alcatra\"\n",
        "    if quantidade <= 5:\n",
        "        preco = quantidade * 5.90\n",
        "    else:\n",
        "        preco = quantidade * 6.80\n",
        "\n",
        "if tipo == 3:\n",
        "    nome = \"Picanha\"\n",
        "    if quantidade <= 5:\n",
        "        preco = quantidade * 6.90\n",
        "    else:\n",
        "        preco = quantidade * 7.80\n",
        "\n",
        "if resposta == 1:\n",
        "    r = \"SIM\"\n",
        "\n",
        "    desconto = ((preco * 5) /100)\n",
        "    total = preco - desconto\n",
        "else:\n",
        "    r = \"NAO\"\n",
        "    total = preco\n",
        "    \n",
        "print(\"\\n***************************CUPOM FISCAL**************************************\")\n",
        "print(\"* Carne.......................................................... %s \" %nome)\n",
        "print(\"* Quantidade..................................................... %d KG \" %quantidade)\n",
        "print(\"* Preço......................................................... %2.f R$ \" %preco)\n",
        "print(\"* Cartao Tabajara................................................ %s \" %r)\n",
        "print(\"* Total com desconto............................................ %2.f R$ \" %total)\n",
        "print(\"******************************************************************************\")\n",
        "\n"
      ],
      "metadata": {
        "colab": {
          "base_uri": "https://localhost:8080/"
        },
        "id": "DDhP-jyruF4A",
        "outputId": "f4a0e31a-53ae-408c-e3cc-20e59407dbb5"
      },
      "execution_count": 1,
      "outputs": [
        {
          "output_type": "stream",
          "name": "stdout",
          "text": [
            "1- File Duplo\n",
            "2- Alcatra\n",
            "3- Picanha\n",
            "\n",
            "\n",
            "Digite o tipo: 1\n",
            "Digite a quantidade comprada: 4\n",
            "A compra será realizada com cartao Tabajara? 1p/ SIM - 2p/ NAO: 1\n",
            "\n",
            "***************************CUPOM FISCAL**************************************\n",
            "* Carne.......................................................... File Duplo \n",
            "* Quantidade..................................................... 4 KG \n",
            "* Preço......................................................... 20 R$ \n",
            "* Cartao Tabajara................................................ SIM \n",
            "* Total com desconto............................................ 19 R$ \n",
            "******************************************************************************\n"
          ]
        }
      ]
    },
    {
      "cell_type": "code",
      "source": [
        ""
      ],
      "metadata": {
        "id": "xZPkYbG2uFxT"
      },
      "execution_count": null,
      "outputs": []
    }
  ]
}