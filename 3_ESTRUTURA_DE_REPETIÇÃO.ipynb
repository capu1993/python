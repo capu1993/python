{
  "nbformat": 4,
  "nbformat_minor": 0,
  "metadata": {
    "colab": {
      "name": "3_ESTRUTURA DE REPETIÇÃO.ipynb",
      "provenance": [],
      "collapsed_sections": []
    },
    "kernelspec": {
      "name": "python3",
      "display_name": "Python 3"
    },
    "language_info": {
      "name": "python"
    }
  },
  "cells": [
    {
      "cell_type": "markdown",
      "source": [
        "# 1- Faça um programa que peça uma nota, entre zero e dez. Mostre uma mensagem caso o valor seja inválido e continue pedindo até que o usuário informe um valor válido."
      ],
      "metadata": {
        "id": "JUmqJwhi6wSt"
      }
    },
    {
      "cell_type": "code",
      "execution_count": null,
      "metadata": {
        "id": "6pqa9yYMwGQp"
      },
      "outputs": [],
      "source": [
        "\n",
        "a = float(input(\"Digite uma nota entre 0 e 10: \"))\n",
        "while (a < 0 or a > 10):\n",
        "  nota = float(input(\"Nota inválida. Digite uma nota entre 0 e 10: \"))\n",
        "  "
      ]
    },
    {
      "cell_type": "code",
      "source": [
        ""
      ],
      "metadata": {
        "id": "eq2yaZYFzBZh"
      },
      "execution_count": null,
      "outputs": []
    },
    {
      "cell_type": "markdown",
      "source": [
        "# 2- Faça um programa que leia um nome de usuário e a sua senha e não aceite a senha igual ao nome do usuário, mostrando uma mensagem de erro e voltando a pedir as informações."
      ],
      "metadata": {
        "id": "xk0rVC7b64Eg"
      }
    },
    {
      "cell_type": "code",
      "source": [
        "a = input(\"Login: \")\n",
        "b = input(\"Senha: \")\n",
        "\n",
        "while (a==b):\n",
        "  print(\"    \")\n",
        "  print(\"A senha não deve ser igual a Login\")\n",
        "  print(\"    \")\n",
        "  a = input(\"Senha: \")\n",
        "  if b==a:\n",
        "   print(\"    \")\n",
        "   print(\"A senha ainda é igual a login\")\n",
        "  else:\n",
        "   print(\"    \")\n",
        "   print(\"*****Cadastro Aprovado*****\")"
      ],
      "metadata": {
        "id": "abCFe7F57Xk7"
      },
      "execution_count": null,
      "outputs": []
    },
    {
      "cell_type": "markdown",
      "source": [
        "# 3 - Faça um programa que leia e valide as seguintes informações:\n",
        "\n",
        "Nome: maior que 3 caracteres;\n",
        "\n",
        "Idade: entre 0 e 150;\n",
        "\n",
        "Salário: maior que zero;\n",
        "\n",
        "Sexo: 'f' ou 'm';\n",
        "\n",
        "Estado Civil: 's', 'c', 'v', 'd';"
      ],
      "metadata": {
        "id": "3iLeip_ZAKYr"
      }
    },
    {
      "cell_type": "code",
      "source": [
        ""
      ],
      "metadata": {
        "id": "Oz4M6eoI7XgF"
      },
      "execution_count": null,
      "outputs": []
    },
    {
      "cell_type": "code",
      "source": [
        "nome = input(\"Qual seu nome [4 caracteres, no mínimo]: \")\n",
        "idade = int(input(\"Qual é a sua idade: \"))\n",
        "salario = float(input(\"Salário: \"))\n",
        "sexo = input(\"Sexo F para feminino ou F para masculino): \")\n",
        "civil = input(\"Estado civil (s, c, v ou d): \")\n",
        "\n",
        "while len(nome) <= 3:\n",
        "    nome = input(\"Seu nome deve ter mais que 3 caracteres: \")\n",
        "\n",
        "while (idade < 0) or (idade > 150):\n",
        "    idade = int(input(\"Voce deve ter entre 0 e 150 anos: \"))\n",
        "\n",
        "while (salario<0):\n",
        "    salario = float(input(\"A coisa ta difícil, mas não tem salário negativo: \"))\n",
        "\n",
        "while (sexo!= 'f') and (sexo!='m'):\n",
        "    sexo = input(\"Biologicamente, você deve ser 'f' ou 'm': \")\n",
        "\n",
        "while (civil!='s')and(civil!='c')and(civil!='v')and(civil!='d'):\n",
        "    print(\"Nao tem estado civil 'confuso'\")\n",
        "    civil = input(\"Deve ser s, c, v ou d: \")"
      ],
      "metadata": {
        "id": "YzuznpKbAWaD"
      },
      "execution_count": null,
      "outputs": []
    },
    {
      "cell_type": "code",
      "source": [
        ""
      ],
      "metadata": {
        "id": "jgLhbFqaAWTO"
      },
      "execution_count": null,
      "outputs": []
    },
    {
      "cell_type": "code",
      "source": [
        ""
      ],
      "metadata": {
        "id": "Lr-PA8s4AWC6"
      },
      "execution_count": null,
      "outputs": []
    },
    {
      "cell_type": "markdown",
      "source": [
        "# 4 - Supondo que a população de um país A seja da ordem de 80000 habitantes com uma taxa anual de crescimento de 3% e que a população de B seja 200000 habitantes com uma taxa de crescimento de 1.5%. Faça um programa que calcule e escreva o número de anos necessários para que a população do país A ultrapasse ou iguale a população do país B, mantidas as taxas de crescimento."
      ],
      "metadata": {
        "id": "2ERTPNmRA3pJ"
      }
    },
    {
      "cell_type": "code",
      "source": [
        "popA=int(input(\"População do país A: \"))\n",
        "while popA<0:\n",
        "    popA=int(input(\"População do país deve ser maior que 0: \"))\n",
        "taxaA=float(input(\"Taxa de crescimento da cidade A: \"))\n",
        "\n",
        "popB=int(input(\"População do país B: \"))\n",
        "while popB<0:\n",
        "    popB=int(input(\"População do país deve ser maior que 0: \"))\n",
        "taxaB=float(input(\"Taxa de crescimento da cidade B: \"))\n",
        "\n",
        "ano=0\n",
        "while popA < popB:\n",
        "    ano += 1\n",
        "    popA = int((1 + (taxaA/100) )* popA)\n",
        "    popB = int((1 + (taxaB/100) )* popB)\n",
        "    print(\"Ano %d:\" % ano)\n",
        "    print(\"Populaçao A: %d\" % popA)\n",
        "    print(\"População B: %d\\n\\n\" % popB)\n",
        "\n",
        "print(\"Ultrapassa no ano:\",ano)"
      ],
      "metadata": {
        "colab": {
          "base_uri": "https://localhost:8080/"
        },
        "id": "OWPxZBgZCMcI",
        "outputId": "06bdb76b-48fc-4a3a-c7ea-11853c94502b"
      },
      "execution_count": null,
      "outputs": [
        {
          "output_type": "stream",
          "name": "stdout",
          "text": [
            "População do país A: 500\n",
            "Taxa de crescimento da cidade A: 3\n",
            "População do país B: 489\n",
            "Taxa de crescimento da cidade B: 3\n",
            "Ultrapassa no ano: 0\n"
          ]
        }
      ]
    },
    {
      "cell_type": "code",
      "source": [
        ""
      ],
      "metadata": {
        "id": "mg1hQuGbCMPx"
      },
      "execution_count": null,
      "outputs": []
    },
    {
      "cell_type": "code",
      "source": [
        ""
      ],
      "metadata": {
        "id": "Jsftgj-bCMI-"
      },
      "execution_count": null,
      "outputs": []
    },
    {
      "cell_type": "markdown",
      "source": [
        "# 5 - Altere o programa anterior permitindo ao usuário informar as populações e as taxas de crescimento iniciais. Valide a entrada e permita repetir a operação."
      ],
      "metadata": {
        "id": "Df3USKEjNNCc"
      }
    },
    {
      "cell_type": "code",
      "source": [
        "populaçãoA=float(input(\"informe a população da cidade A \"))\n",
        "populaçãoB=float(input(\"informe a população da cidade B \"))\n",
        "ano=0\n",
        "taxa_crescimentoA=float(input(\"informe a taxa de crescimento da população da cidade A \"))\n",
        "taxa_crescimentoB=float(input(\"informe a taxa de crescimento da população da cidade B \"))\n",
        "while populaçãoA < populaçãoB:\n",
        "\tpopulaçãoA+=round((populaçãoA*taxa_crescimentoA)/100)\n",
        "\tpopulaçãoB+=round((populaçãoB*taxa_crescimentoB)/100)\n",
        "\tano=ano+1\n",
        "\n",
        "print(\"levará\",ano,\"anos para população da cidade A ser maior que a cidade B\")\n",
        "print(\"populaçãoB-->\",populaçãoB,\"habitantes\")\n",
        "print(\"populaçãoA-->\", populaçãoA,\"habitantes\")"
      ],
      "metadata": {
        "colab": {
          "base_uri": "https://localhost:8080/"
        },
        "id": "50mZFbQHM-Um",
        "outputId": "c9b63143-703e-450d-fdde-c045b20f43ec"
      },
      "execution_count": null,
      "outputs": [
        {
          "output_type": "stream",
          "name": "stdout",
          "text": [
            "informe a população da cidade A 222222\n",
            "informe a população da cidade B 33333\n",
            "informe a taxa de crescimento da população da cidade A 23\n",
            "informe a taxa de crescimento da população da cidade B 12\n",
            "levará 0 anos para população da cidade A ser maior que a cidade B\n",
            "populaçãoB--> 33333.0 habitantes\n",
            "populaçãoA--> 222222.0 habitantes\n"
          ]
        }
      ]
    },
    {
      "cell_type": "code",
      "source": [
        ""
      ],
      "metadata": {
        "id": "eskuUH0XM-GV"
      },
      "execution_count": null,
      "outputs": []
    },
    {
      "cell_type": "markdown",
      "source": [
        "# 6 - Faça um programa que imprima na tela os números de 1 a 20, um abaixo do outro. Depois modifique o programa para que ele mostre os números um ao lado do outro."
      ],
      "metadata": {
        "id": "ORx6LcoJtu03"
      }
    },
    {
      "cell_type": "code",
      "source": [
        "\n",
        "for i in range(21):\n",
        "  print(i)\n",
        "\n",
        "print(list(range(1, 21)))"
      ],
      "metadata": {
        "id": "fCVCrQRPtr-h"
      },
      "execution_count": null,
      "outputs": []
    },
    {
      "cell_type": "code",
      "source": [
        ""
      ],
      "metadata": {
        "id": "t21LkP2xtsGE"
      },
      "execution_count": null,
      "outputs": []
    },
    {
      "cell_type": "markdown",
      "source": [
        "# 7 - Faça um programa que leia 5 números e informe o maior número."
      ],
      "metadata": {
        "id": "_4Sn7qYEuC_m"
      }
    },
    {
      "cell_type": "code",
      "source": [
        "\n",
        "a = int(input())\n",
        "b = int(input())\n",
        "c = int(input())\n",
        "d = int(input())\n",
        "e = int(input())\n",
        "\n",
        "lista = [a,b,c,d,e]\n",
        "\n",
        "\n",
        "print (\"    \")\n",
        "\n",
        "print (\" O maior numa lista é \"+ str(max(lista, key=int)))"
      ],
      "metadata": {
        "id": "wb5KKm4euTXc"
      },
      "execution_count": null,
      "outputs": []
    },
    {
      "cell_type": "code",
      "source": [
        ""
      ],
      "metadata": {
        "id": "wzXpO_FuuTOJ"
      },
      "execution_count": null,
      "outputs": []
    },
    {
      "cell_type": "markdown",
      "source": [
        "# 8 - Faça um programa que leia 5 números e informe a soma e a média dos números."
      ],
      "metadata": {
        "id": "DlLFATJQwsg4"
      }
    },
    {
      "cell_type": "code",
      "source": [
        "numeros = [int(input(\"Informe os numeros: \")) for i in range(5)]\n",
        "\n",
        "soma = sum(numeros)\n",
        "\n",
        "print(\"   \")\n",
        "print(\"A soma dos números é \"+ str(soma))\n",
        "print(\"   \")\n",
        "print(\"A média dos números \"+ str((soma)/len(numeros)))\n"
      ],
      "metadata": {
        "id": "8_U3O9W4wqzH"
      },
      "execution_count": null,
      "outputs": []
    },
    {
      "cell_type": "code",
      "source": [
        ""
      ],
      "metadata": {
        "id": "Nuibb372wqum"
      },
      "execution_count": null,
      "outputs": []
    },
    {
      "cell_type": "markdown",
      "source": [
        "# 9 - Faça um programa que imprima na tela apenas os números ímpares entre 1 e 50."
      ],
      "metadata": {
        "id": "fkKgtH-ZzDhj"
      }
    },
    {
      "cell_type": "code",
      "source": [
        "\n",
        "\n",
        "for i in range(1,51,2):\n",
        "  print(i)\n",
        "\n"
      ],
      "metadata": {
        "id": "nJ9glJHnwqhl"
      },
      "execution_count": null,
      "outputs": []
    },
    {
      "cell_type": "code",
      "source": [
        ""
      ],
      "metadata": {
        "id": "pJBuKkDMwqcz"
      },
      "execution_count": null,
      "outputs": []
    },
    {
      "cell_type": "markdown",
      "source": [
        "# 10 - Faça um programa que receba dois números inteiros e gere os números inteiros que estão no intervalo compreendido por eles."
      ],
      "metadata": {
        "id": "vqW_K4oS9lp_"
      }
    },
    {
      "cell_type": "code",
      "source": [
        ""
      ],
      "metadata": {
        "id": "Zn3hUfc-uTHn"
      },
      "execution_count": null,
      "outputs": []
    },
    {
      "cell_type": "code",
      "source": [
        "\n",
        "a=int(input(\"digite um numero \"))\n",
        "b=int(input(\"digite outro numero \"))\n",
        "while b<a:\n",
        "\ta=int(input(\"digite um numero \"))\n",
        "\tb=int(input(\"digite outro numero \"))\n",
        "else:\n",
        "\tfor i in range(a,b,1):\n",
        "\t\tprint(i)\n",
        "  "
      ],
      "metadata": {
        "id": "KQSQgbpc9KiB"
      },
      "execution_count": null,
      "outputs": []
    },
    {
      "cell_type": "code",
      "source": [
        ""
      ],
      "metadata": {
        "id": "4menqlRE9Kay"
      },
      "execution_count": null,
      "outputs": []
    },
    {
      "cell_type": "markdown",
      "source": [
        "# 11 - Altere o programa anterior para mostrar no final a soma dos números."
      ],
      "metadata": {
        "id": "Fb2pnwxi-BdG"
      }
    },
    {
      "cell_type": "code",
      "source": [
        "#Altere o programa anterior para mostrar no final a soma dos números.\n",
        "\n",
        "n1 = int(input(\"Digite um número: \"))\n",
        "n2 = int(input(\"Digite outro número: \"))\n",
        "\n",
        "for i in range(n1 + 1, n2):\n",
        "        print(i)\n",
        "\n",
        "for i in range(n2 + 1, n1):\n",
        "        print(i)\n",
        "\n",
        "print(\"Soma dos números: \", i + i)"
      ],
      "metadata": {
        "id": "pNxIARJ49KGD"
      },
      "execution_count": null,
      "outputs": []
    },
    {
      "cell_type": "markdown",
      "source": [
        "# 12 - Desenvolva um gerador de tabuada, capaz de gerar a tabuada de qualquer número inteiro entre 1 a 10. O usuário deve informar de qual numero ele deseja ver a tabuada. A saída deve ser conforme o exemplo abaixo:"
      ],
      "metadata": {
        "id": "hrGWYjXB-huk"
      }
    },
    {
      "cell_type": "code",
      "source": [
        "'''\n",
        "Desenvolva um gerador de tabuada, capaz de gerar a tabuada de qualquer número inteiro entre 1 a 10. O usuário deve informar de qual numero ele deseja ver a tabuada. A saída deve ser conforme o exemplo abaixo:\n",
        "Tabuada de 5:\n",
        "5 X 1 = 5\n",
        "5 X 2 = 10\n",
        "...\n",
        "5 X 10 = 50\n",
        "'''\n",
        "\n",
        "n = int(input(\"digite um numero de 1 a 10: \"))\n",
        "cont = 1\n",
        "\n",
        "while cont <= 10:\n",
        "    tab = n * cont\n",
        "    print(n, \"X\", cont, \"=\", tab)\n",
        "    cont = cont + 1"
      ],
      "metadata": {
        "id": "qPQ54Gcm9J6B"
      },
      "execution_count": null,
      "outputs": []
    },
    {
      "cell_type": "code",
      "source": [
        ""
      ],
      "metadata": {
        "id": "ICzk5F3_9JxV"
      },
      "execution_count": null,
      "outputs": []
    },
    {
      "cell_type": "markdown",
      "source": [
        "# 13- Faça um programa que peça dois números, base e expoente, calcule e mostre o primeiro número elevado ao segundo número. Não utilize a função de potência da linguagem."
      ],
      "metadata": {
        "id": "py7EtMp3-8So"
      }
    },
    {
      "cell_type": "code",
      "source": [
        "\n",
        "base = int(input(\"Digite a base: \"))\n",
        "expoente = int(input(\"Digite expoente: \"))\n",
        "resultado = 1\n",
        "\n",
        "for i in range(expoente):\n",
        "    resultado = base * base\n",
        "    resultado = base * resultado\n",
        "\n",
        "print(resultado)"
      ],
      "metadata": {
        "id": "wvkdeO4s-fvY"
      },
      "execution_count": null,
      "outputs": []
    },
    {
      "cell_type": "code",
      "source": [
        ""
      ],
      "metadata": {
        "id": "oqQB1rFV-fpL"
      },
      "execution_count": null,
      "outputs": []
    },
    {
      "cell_type": "markdown",
      "source": [
        "# 14- Faça um programa que peça 10 números inteiros, calcule e mostre a quantidade de números pares e a quantidade de números impares."
      ],
      "metadata": {
        "id": "qKqq0Mkr_Hvu"
      }
    },
    {
      "cell_type": "code",
      "source": [
        "\n",
        "n1 = int(input(\"\\nDigite o número: \"))\n",
        "n2 = int(input(\"Digite o número: \"))\n",
        "n3 = int(input(\"Digite o número: \"))\n",
        "n4 = int(input(\"Digite o número: \"))\n",
        "n5 = int(input(\"Digite o número: \"))\n",
        "n6 = int(input(\"Digite o número: \"))\n",
        "n7 = int(input(\"Digite o número: \"))\n",
        "n8 = int(input(\"Digite o número: \"))\n",
        "n9 = int(input(\"Digite o número: \"))\n",
        "n10 = int(input(\"Digite o número: \"))\n",
        "list1 = [n1, n2, n3, n4, n5, n6, n7, n8, n9, n10]\n",
        "\n",
        "par = 0\n",
        "impar = 0\n",
        "\n",
        "for value in list1:\n",
        "    if value % 2 == 0:\n",
        "        par = par + 1\n",
        "    else:\n",
        "        impar = impar + 1\n",
        "\n",
        "print(\"Par: \", par, \"\\nImpar: \", impar)"
      ],
      "metadata": {
        "id": "YiTNTcyU-fhj"
      },
      "execution_count": null,
      "outputs": []
    },
    {
      "cell_type": "code",
      "source": [
        ""
      ],
      "metadata": {
        "id": "0gsHb4GE-fax"
      },
      "execution_count": null,
      "outputs": []
    },
    {
      "cell_type": "markdown",
      "source": [
        "# 15- A série de Fibonacci é formada pela seqüência 1,1,2,3,5,8,13,21,34,55,... Faça um programa capaz de gerar a série até o n−ésimo termo."
      ],
      "metadata": {
        "id": "WqHASwAx_goF"
      }
    },
    {
      "cell_type": "code",
      "source": [
        "\n",
        "ultimo = 1\n",
        "penultimo = 1\n",
        "count = 1\n",
        "print(ultimo)\n",
        "print(penultimo)\n",
        "while count <= 9:\n",
        "        termo = ultimo + penultimo\n",
        "        penultimo = ultimo\n",
        "        ultimo = termo\n",
        "        count += 1\n",
        "        print(termo)"
      ],
      "metadata": {
        "id": "Pols-GPH_ZBN"
      },
      "execution_count": null,
      "outputs": []
    },
    {
      "cell_type": "code",
      "source": [
        ""
      ],
      "metadata": {
        "id": "mNO_Fi9H_Y6f"
      },
      "execution_count": null,
      "outputs": []
    },
    {
      "cell_type": "code",
      "source": [
        ""
      ],
      "metadata": {
        "id": "NhhuRL--_Yqm"
      },
      "execution_count": null,
      "outputs": []
    },
    {
      "cell_type": "markdown",
      "source": [
        "# 16 - A série de Fibonacci é formada pela seqüência 0,1,1,2,3,5,8,13,21,34,55,... Faça um programa que gere a série até que o valor seja maior que 500."
      ],
      "metadata": {
        "id": "cPTGdVqY_9dl"
      }
    },
    {
      "cell_type": "code",
      "source": [
        "ultimo = 1\n",
        "penultimo = 1\n",
        "print(ultimo)\n",
        "print(penultimo)\n",
        "termo = 0\n",
        "\n",
        "while termo < 500:\n",
        "    termo = ultimo + penultimo\n",
        "    penultimo = ultimo\n",
        "    ultimo = termo\n",
        "    if termo < 500:\n",
        "        print(termo)\n",
        "    else:\n",
        "        print(\"O proximo valor será maior que 500\")"
      ],
      "metadata": {
        "id": "DOauYnLm_o8A"
      },
      "execution_count": null,
      "outputs": []
    },
    {
      "cell_type": "code",
      "source": [
        ""
      ],
      "metadata": {
        "id": "4Imjn57d_pB8"
      },
      "execution_count": null,
      "outputs": []
    },
    {
      "cell_type": "markdown",
      "source": [
        "# 17- Faça um programa que calcule o fatorial de um número inteiro fornecido pelo usuário. Ex.: 5!=5.4.3.2.1=120"
      ],
      "metadata": {
        "id": "euRSR6qm_3Lv"
      }
    },
    {
      "cell_type": "code",
      "source": [
        ""
      ],
      "metadata": {
        "id": "uWDBR7qV_pIH"
      },
      "execution_count": null,
      "outputs": []
    },
    {
      "cell_type": "code",
      "source": [
        "#Faça um programa que calcule o fatorial de um número inteiro fornecido pelo usuário. Ex.: 5!=5.4.3.2.1=120\n",
        "\n",
        "numero = int(input(\"Digite um número: \"))\n",
        "count1 = 0\n",
        "count = 1\n",
        "while count1 < numero:\n",
        "    fatorial = numero * (numero - count)\n",
        "    count = count - 1\n",
        "    count1 = count + 1\n",
        "\n",
        "print(fatorial)"
      ],
      "metadata": {
        "id": "isWrtDOH_pQ6"
      },
      "execution_count": null,
      "outputs": []
    },
    {
      "cell_type": "code",
      "source": [
        ""
      ],
      "metadata": {
        "id": "McTC7yW0_pYB"
      },
      "execution_count": null,
      "outputs": []
    },
    {
      "cell_type": "markdown",
      "source": [
        "# 18- Faça um programa que, dado um conjunto de N números, determine o menor valor, o maior valor e a soma dos valores."
      ],
      "metadata": {
        "id": "3cNWiZxtAFrb"
      }
    },
    {
      "cell_type": "code",
      "source": [
        "\n",
        "lista = []\n",
        "count = 0\n",
        "\n",
        "quant = int(input(\"Digite a quantiade de número que deseja digitar: \"))\n",
        "while quant != count:\n",
        "    numero = lista.append(float(input(\"Digite um número: \")))\n",
        "    count += 1\n",
        "\n",
        "print(\"Lista: \", lista, \"\\nMaior: \", max(lista), \"\\nMenor: \", min(lista))\n",
        "print(\"Soma: \", max(lista) + min(lista))"
      ],
      "metadata": {
        "id": "Smr_v6UV_pha"
      },
      "execution_count": null,
      "outputs": []
    },
    {
      "cell_type": "code",
      "source": [
        ""
      ],
      "metadata": {
        "id": "GoYx-vLs_Ykp"
      },
      "execution_count": null,
      "outputs": []
    },
    {
      "cell_type": "code",
      "source": [
        ""
      ],
      "metadata": {
        "id": "6TkfcMypACc6"
      },
      "execution_count": null,
      "outputs": []
    },
    {
      "cell_type": "markdown",
      "source": [
        "# 19 - Altere o programa anterior para que ele aceite apenas números entre 0 e 1000."
      ],
      "metadata": {
        "id": "nin0MRw6AKCI"
      }
    },
    {
      "cell_type": "code",
      "source": [
        "\n",
        "lista = []\n",
        "count = 0\n",
        "\n",
        "quant = int(input(\"Digite a quantiade de número que deseja digitar: \"))\n",
        "while quant != count:\n",
        "    numero = float(input(\"Digite um número: \"))\n",
        "\n",
        "    while numero > 1000 or numero < 0:\n",
        "        numero = float(input(\"Digite um número[erro]: \"))\n",
        "        \n",
        "    lista.append(numero)\n",
        "    count += 1\n",
        "\n",
        "print(\"Lista: \", lista, \"\\nMaior: \", max(lista), \"\\nMenor: \", min(lista))\n",
        "print(\"Soma: \", max(lista) + min(lista))"
      ],
      "metadata": {
        "id": "PS-juCO-ACip"
      },
      "execution_count": null,
      "outputs": []
    },
    {
      "cell_type": "code",
      "source": [
        ""
      ],
      "metadata": {
        "id": "IuuueLp3ACpw"
      },
      "execution_count": null,
      "outputs": []
    },
    {
      "cell_type": "code",
      "source": [
        ""
      ],
      "metadata": {
        "id": "AHHJKh8DACwN"
      },
      "execution_count": null,
      "outputs": []
    },
    {
      "cell_type": "markdown",
      "source": [
        "# 20 - Altere o programa de cálculo do fatorial, permitindo ao usuário calcular o fatorial várias vezes e limitando o fatorial a números inteiros positivos e menores que 16."
      ],
      "metadata": {
        "id": "8w-5APrJAp8F"
      }
    },
    {
      "cell_type": "code",
      "source": [
        "\n",
        "import math\n",
        "lista = []\n",
        "count = 0\n",
        "\n",
        "quant = int(input(\"Digite a quantiade de número que deseja digitar: \"))\n",
        "while quant != count:\n",
        "    numero = float(input(\"Digite um número: \"))\n",
        "    while numero // 1 != numero or numero < 0 or 0 or numero < 16:\n",
        "        numero = float(input(\"Digite um número[erro]: \"))\n",
        "\n",
        "    print(\"Fatorial do número digitado: \", math.factorial(numero))\n",
        "    count += 1"
      ],
      "metadata": {
        "id": "OLixJjrEAlmi"
      },
      "execution_count": null,
      "outputs": []
    },
    {
      "cell_type": "code",
      "source": [
        ""
      ],
      "metadata": {
        "id": "_2Hd-4-0AlUX"
      },
      "execution_count": null,
      "outputs": []
    },
    {
      "cell_type": "code",
      "source": [
        ""
      ],
      "metadata": {
        "id": "HoA-82O_AleK"
      },
      "execution_count": null,
      "outputs": []
    },
    {
      "cell_type": "markdown",
      "source": [
        "# 21 - Faça um programa que peça um número inteiro e determine se ele é ou não um número primo. Um número primo é aquele que é divisível somente por ele mesmo e por "
      ],
      "metadata": {
        "id": "lW6Q3ZueAuJI"
      }
    },
    {
      "cell_type": "code",
      "source": [
        "\n",
        "numero = int(input(\"\\nDigite um número: \"))\n",
        "\n",
        "if numero % 2 == 0 and numero != 2:\n",
        "    print(\"não primo\")\n",
        "else:\n",
        "    print(\"primo\")"
      ],
      "metadata": {
        "id": "kGlru-AFAlti"
      },
      "execution_count": null,
      "outputs": []
    },
    {
      "cell_type": "code",
      "source": [
        ""
      ],
      "metadata": {
        "id": "M1ESG1n7_YZS"
      },
      "execution_count": null,
      "outputs": []
    },
    {
      "cell_type": "markdown",
      "source": [
        "# 22- Altere o programa de cálculo dos números primos, informando, caso o número não seja primo, por quais número ele é divisível."
      ],
      "metadata": {
        "id": "sw9ezF2yBYRx"
      }
    },
    {
      "cell_type": "code",
      "source": [
        ""
      ],
      "metadata": {
        "id": "QJb86Xr_BVSY"
      },
      "execution_count": null,
      "outputs": []
    },
    {
      "cell_type": "code",
      "source": [
        "\n",
        "numero = int(input(\"\\nDigite um número: \"))\n",
        "lista = []\n",
        "\n",
        "\n",
        "if numero % 2 != 0 or numero == 2:\n",
        "    print(\"primo\")\n",
        "else:\n",
        "    for i in range(numero):\n",
        "        if numero % (i + 1) == 0:\n",
        "\n",
        "            lista.append(i + 1)\n",
        "\n",
        "print(\"Os números divisiveis por \", numero, \" são \", lista)"
      ],
      "metadata": {
        "id": "LQmjbs9MBVKQ"
      },
      "execution_count": null,
      "outputs": []
    },
    {
      "cell_type": "code",
      "source": [
        ""
      ],
      "metadata": {
        "id": "geXUoQ6pBVDf"
      },
      "execution_count": null,
      "outputs": []
    },
    {
      "cell_type": "markdown",
      "source": [
        "# 23 - Faça um programa que mostre todos os primos entre 1 e N sendo N um número inteiro fornecido pelo usuário. O programa deverá mostrar também o número de divisões que ele executou para encontrar os números primos. Serão avaliados o funcionamento, o estilo e o número de testes (divisões) executados."
      ],
      "metadata": {
        "id": "_xBDbm_vBd8E"
      }
    },
    {
      "cell_type": "code",
      "source": [
        ""
      ],
      "metadata": {
        "id": "Makro1QqBU7r"
      },
      "execution_count": null,
      "outputs": []
    },
    {
      "cell_type": "code",
      "source": [
        "numero = int(input(\"\\nDigite um número: \"))\n",
        "lista = []\n",
        "divisoes = 0\n",
        "\n",
        "for i in range(numero + 1):\n",
        "    if i % 2 == 1 and i != 2:\n",
        "        lista.append(i)\n",
        "        divisoes += 1\n",
        "    else:\n",
        "        divisoes += 1\n",
        "print(\"Números primos: \", lista)\n",
        "print(\"Número de divisões\", divisoes)"
      ],
      "metadata": {
        "id": "H_gHbWHkBUqW"
      },
      "execution_count": null,
      "outputs": []
    },
    {
      "cell_type": "code",
      "source": [
        ""
      ],
      "metadata": {
        "id": "BhratQGkBUy8"
      },
      "execution_count": null,
      "outputs": []
    },
    {
      "cell_type": "markdown",
      "source": [
        "# 24- Faça um programa que calcule o mostre a média aritmética de N notas."
      ],
      "metadata": {
        "id": "z_d8yFVIBpee"
      }
    },
    {
      "cell_type": "code",
      "source": [
        "numero_notas = int(input(\"Digite o número de notas que você irá digitar: \"))\n",
        "count = 0\n",
        "todas_notas = []\n",
        "\n",
        "while count < numero_notas:\n",
        "    notas = todas_notas.append(float(input(\"Digite a nota: \")))\n",
        "    count += 1\n",
        "\n",
        "media = sum(todas_notas) / numero_notas\n",
        "print(\"A média é igual a \", media)"
      ],
      "metadata": {
        "id": "H3CPP4_hBUgt"
      },
      "execution_count": null,
      "outputs": []
    },
    {
      "cell_type": "code",
      "source": [
        ""
      ],
      "metadata": {
        "id": "QhYnGxlABUYr"
      },
      "execution_count": null,
      "outputs": []
    },
    {
      "cell_type": "code",
      "source": [
        ""
      ],
      "metadata": {
        "id": "tbpWAT92BURF"
      },
      "execution_count": null,
      "outputs": []
    },
    {
      "cell_type": "markdown",
      "source": [
        "# 25- Faça um programa que peça para n pessoas a sua idade, ao final o programa devera verificar se a média de idade da turma varia entre 0 e 25,26 e 60 e maior que 60; e então, dizer se a turma é jovem, adulta ou idosa, conforme a média calculada."
      ],
      "metadata": {
        "id": "CzKuukEjE18J"
      }
    },
    {
      "cell_type": "code",
      "source": [
        "n_pessoas = int(input(\"Digite o número de pessoas que ira digitar a idade: \"))\n",
        "lista = []\n",
        "\n",
        "for i in range(n_pessoas):\n",
        "    idade = lista.append(int(input(\"Digite a idade: \")))\n",
        "\n",
        "\n",
        "if sum(lista) / len(lista) < 25:\n",
        "    print(\"jovem\")\n",
        "elif sum(lista) / len(lista) >= 25 and sum(lista) / len(lista) < 60:\n",
        "    print(\"adulto\")\n",
        "else:\n",
        "    print(\"idosa\")"
      ],
      "metadata": {
        "id": "HjXnoZRMFBT8"
      },
      "execution_count": null,
      "outputs": []
    },
    {
      "cell_type": "code",
      "source": [
        ""
      ],
      "metadata": {
        "id": "PyMhlg6XFBKl"
      },
      "execution_count": null,
      "outputs": []
    },
    {
      "cell_type": "markdown",
      "source": [
        "# 26 - Numa eleição existem três candidatos. Faça um programa que peça o número total de eleitores. Peça para cada eleitor votar e ao final mostrar o número de votos de cada candidato."
      ],
      "metadata": {
        "id": "8lmYGhvrE3C8"
      }
    },
    {
      "cell_type": "code",
      "source": [
        "eleitores = int(input(\"Digite o número de eleitores: \"))\n",
        "votos = []\n",
        "\n",
        "for i in range(eleitores):\n",
        "    voto = votos.append(int(input(\"Qual candidato deseja votar? [1, 2, 3]: \")))\n",
        "\n",
        "print(\"Quantidade de votos para candidato 1: \", votos.count(1))\n",
        "print(\"Quantidade de votos para candidato 2: \", votos.count(2))\n",
        "print(\"Quantidade de votos para candidato 3: \", votos.count(3))"
      ],
      "metadata": {
        "id": "cUqUvTSrBUIZ"
      },
      "execution_count": null,
      "outputs": []
    },
    {
      "cell_type": "code",
      "source": [
        ""
      ],
      "metadata": {
        "id": "-kTRNyLXBUBI"
      },
      "execution_count": null,
      "outputs": []
    },
    {
      "cell_type": "markdown",
      "source": [
        "# 27- Faça um programa que calcule o número médio de alunos por turma. Para isto, peça a quantidade de turmas e a quantidade de alunos para cada turma. As turmas não podem ter mais de 40 alunos."
      ],
      "metadata": {
        "id": "ZWXC9mg_FOLS"
      }
    },
    {
      "cell_type": "code",
      "source": [
        "turmas = int(input(\"Quantas turmas? : \"))\n",
        "alunos_turmas = []\n",
        "turma = 1\n",
        "\n",
        "for i in range(turmas):\n",
        "    print(\"turma \", turma)\n",
        "    alunos = int(input(\"Alunos da turma : \"))\n",
        "    while alunos > 40:\n",
        "        print(\"turma \", turma, \" [uma turma só pode ter 40 alunos]\")\n",
        "        alunos = int(input(\"Alunos da turma : \"))\n",
        "    turma += 1\n",
        "    alunos_turmas.append(alunos)\n",
        "\n",
        "media = sum(alunos_turmas) / len(alunos_turmas)\n",
        "print(\"A media e igual a: \", media)"
      ],
      "metadata": {
        "id": "1YNFaNm1Frp1"
      },
      "execution_count": null,
      "outputs": []
    },
    {
      "cell_type": "markdown",
      "source": [
        "# 28 - Faça um programa que calcule o valor total investido por um colecionador em sua coleção de CDs e o valor médio gasto em cada um deles. O usuário deverá informar a quantidade de CDs e o valor para em cada um."
      ],
      "metadata": {
        "id": "ZadJvnENFN71"
      }
    },
    {
      "cell_type": "code",
      "source": [
        "quant_cds = int(input(\"Digite a quantidade de CD's : \"))\n",
        "cds = []\n",
        "n_cd = 1\n",
        "\n",
        "for i in range(quant_cds):\n",
        "    print(\"CD número \", n_cd)\n",
        "    valor_cd = cds.append(float(input(\"Digite o valor do CD: \")))\n",
        "    n_cd += 1\n",
        "\n",
        "media = sum(cds) / len(cds)\n",
        "print(\"A media para cada CD é: \", media)"
      ],
      "metadata": {
        "id": "dqb1-mX-Fshp"
      },
      "execution_count": null,
      "outputs": []
    },
    {
      "cell_type": "markdown",
      "source": [
        "# 29 - O Sr. Manoel Joaquim possui uma grande loja de artigos de R$ 1,99, com cerca de 10 caixas. Para agilizar o cálculo de quanto cada cliente deve pagar ele desenvolveu um tabela que contém o número de itens que o cliente comprou e ao lado o valor da conta. Desta forma a atendente do caixa precisa apenas contar quantos itens o cliente está levando e olhar na tabela de preços. Você foi contratado para desenvolver o programa que monta esta tabela de preços, que conterá os preços de 1 até 50 produtos, conforme o exemplo abaixo:\n",
        "\n",
        "#Lojas Quase Dois - Tabela de preços\n",
        "\n",
        "#1 - R$ 1.99\n",
        "\n",
        "#2 - R$ 3.98\n",
        "\n",
        "#50 - R$ 99.50"
      ],
      "metadata": {
        "id": "4dqJS7YWFNq1"
      }
    },
    {
      "cell_type": "code",
      "source": [
        "produtos = int(input(\"Digite a quantidade de produtos: \"))\n",
        "while produtos > 50:\n",
        "    produtos = int(input(\"Digite a quantidade de produtos[menos que 50]: \"))\n",
        "\n",
        "\n",
        "precos = []\n",
        "n_produto = 1\n",
        "count = 0\n",
        "\n",
        "for i in range(produtos):\n",
        "    print(\"Produto N° \", n_produto)\n",
        "    preco = precos.append(float(input(\"Digite o preco do produto: \")))\n",
        "    n_produto += 1\n",
        "\n",
        "n_produto = 1\n",
        "for j in range(produtos):\n",
        "    print(\"Produto N° \", n_produto, \"= \", precos[count])\n",
        "    count += 1\n",
        "    n_produto += 1"
      ],
      "metadata": {
        "id": "8ijfFytfBT5x"
      },
      "execution_count": null,
      "outputs": []
    },
    {
      "cell_type": "code",
      "source": [
        ""
      ],
      "metadata": {
        "id": "AzQsNK04BTx3"
      },
      "execution_count": null,
      "outputs": []
    },
    {
      "cell_type": "markdown",
      "source": [
        "# 30- O Sr. Manoel Joaquim acaba de adquirir uma panificadora e pretende implantar a metodologia da tabelinha, que já é um sucesso na sua loja de 1,99. Você foi contratado para desenvolver o programa que monta a tabela de preços de pães, de 1 até 50 pães, a partir do preço do pão informado pelo usuário, conforme o exemplo abaixo:\n",
        "\n",
        "#Preço do pão: R$ 0.18\n",
        "\n",
        "#Panificadora Pão de Ontem - Tabela de preços\n",
        "\n",
        "#1 - R$ 0.18\n",
        "\n",
        "#2 - R$ 0.36\n",
        "\n",
        "#50 - R$ 9.00"
      ],
      "metadata": {
        "id": "QwgSBPhYGD9e"
      }
    },
    {
      "cell_type": "code",
      "source": [
        "paes = int(input(\"Digite a quantidade de pães: \"))\n",
        "while paes > 50:\n",
        "    produtos = int(input(\"Digite a quantidade de produtos[menos que 50]: \"))\n",
        "\n",
        "count = 1\n",
        "preco_pao = float(input(\"Qual é o preço do pão? : \"))\n",
        "\n",
        "for j in range(paes):\n",
        "    print(count, \"= R$\", round(preco_pao * count, 2))\n",
        "    count += 1"
      ],
      "metadata": {
        "id": "l3QnpS-LGv0b"
      },
      "execution_count": null,
      "outputs": []
    },
    {
      "cell_type": "code",
      "source": [
        ""
      ],
      "metadata": {
        "id": "T0cxBIplGvoJ"
      },
      "execution_count": null,
      "outputs": []
    },
    {
      "cell_type": "markdown",
      "source": [
        "# 31 - O Sr. Manoel Joaquim expandiu seus negócios para além dos negócios de 1,99 e agora possui uma loja de conveniências. Faça um programa que implemente uma caixa registradora rudimentar. O programa deverá receber um número desconhecido de valores referentes aos preços das mercadorias. Um valor zero deve ser informado pelo operador para indicar o final da compra. O programa deve então mostrar o total da compra e perguntar o valor em dinheiro que o cliente forneceu, para então calcular e mostrar o valor do troco. Após esta operação, o programa deverá voltar ao ponto inicial, para registrar a próxima compra. A saída deve ser conforme o exemplo abaixo:\n",
        "\n",
        "#Lojas Tabajara \n",
        "\n",
        "#Produto 1: R$ 2.20\n",
        "\n",
        "#Produto 2: R$ 5.80\n",
        "\n",
        "#Produto 3: R$ 0\n",
        "\n",
        "#Total: R$ 9.00\n",
        "\n",
        "#Dinheiro: R$ 20.00\n",
        "\n",
        "#Troco: R$ 11.00"
      ],
      "metadata": {
        "id": "CEARuqKTGDks"
      }
    },
    {
      "cell_type": "code",
      "source": [
        "import time\n",
        "\n",
        "while True:\n",
        "    precos_produtos = []\n",
        "    preco_produto = True\n",
        "    n_produto = 1\n",
        "\n",
        "    while preco_produto != 0:\n",
        "        print(\"Produto n° \", n_produto)\n",
        "        preco_produto = float(input(\"Digite o preço do produto: \"))\n",
        "        precos_produtos.append(preco_produto)\n",
        "        n_produto += 1\n",
        "\n",
        "    print(\"Total: \", sum(precos_produtos))\n",
        "    dinheiro = float(input(\"Digite a quantida que irá pagar: \"))\n",
        "\n",
        "    while dinheiro < sum(precos_produtos):\n",
        "        dinheiro = float(input(\"Digite a quantida que irá pagar[maior que o total da compra] : \"))\n",
        "\n",
        "    print(\"Dinheiro: R$\", dinheiro)\n",
        "    print(\"Troco: R$\", dinheiro - sum(precos_produtos))\n",
        "    print(\"\\nPróxima compra em 3 segundos...\")\n",
        "    time.sleep(3)\n",
        "    print(\"\\n\" * 5)"
      ],
      "metadata": {
        "id": "120wkgt1Gxxf"
      },
      "execution_count": null,
      "outputs": []
    },
    {
      "cell_type": "code",
      "source": [
        ""
      ],
      "metadata": {
        "id": "NTkSRmzgGxqs"
      },
      "execution_count": null,
      "outputs": []
    },
    {
      "cell_type": "code",
      "source": [
        ""
      ],
      "metadata": {
        "id": "LnzhHGAaGxk9"
      },
      "execution_count": null,
      "outputs": []
    },
    {
      "cell_type": "markdown",
      "source": [
        "# 32- Faça um programa que calcule o fatorial de um número inteiro fornecido pelo usuário. Ex.: 5!=5.4.3.2.1=120. A saída deve ser conforme o exemplo abaixo:\n",
        "\n",
        "#Fatorial de: 5\n",
        "\n",
        "#5! =  5 . 4 . 3 . 2 . 1 = 120"
      ],
      "metadata": {
        "id": "LvfLV5k-GDRi"
      }
    },
    {
      "cell_type": "code",
      "source": [
        "import math\n",
        "numero = int(input(\"\\nDigite o numero que quer realizar a fatorial : \"))\n",
        "count = numero\n",
        "fatorial = math.factorial(numero)\n",
        "\n",
        "for i in range(numero - 1):\n",
        "    print(count, end=\" * \")\n",
        "    count -= 1\n",
        "print(\"1 = \", fatorial)"
      ],
      "metadata": {
        "colab": {
          "base_uri": "https://localhost:8080/"
        },
        "id": "hAYN2sAnBTq9",
        "outputId": "1aea1eb5-3cbb-4fb3-97cd-7bc2e7f4b9a3"
      },
      "execution_count": 49,
      "outputs": [
        {
          "output_type": "stream",
          "name": "stdout",
          "text": [
            "\n",
            "Digite o numero que quer realizar a fatorial : 4\n",
            "4 * 3 * 2 * 1 =  24\n"
          ]
        }
      ]
    },
    {
      "cell_type": "code",
      "source": [
        ""
      ],
      "metadata": {
        "id": "sJjlpveJBTjw"
      },
      "execution_count": null,
      "outputs": []
    },
    {
      "cell_type": "markdown",
      "source": [
        "# 33 - O Departamento Estadual de Meteorologia lhe contratou para desenvolver um programa que leia as um conjunto indeterminado de temperaturas, e informe ao final a menor e a maior temperaturas informadas, bem como a média das temperaturas."
      ],
      "metadata": {
        "id": "UNyTw5NeUtp3"
      }
    },
    {
      "cell_type": "code",
      "source": [
        "n_temperaturas = int(input(\"Quantidade de temperaturas que irá digitar: \"))\n",
        "temperaturas = []\n",
        "n_temperatura = 1\n",
        "for i in range(n_temperaturas):\n",
        "    print(\"Temperatura n° \", n_temperatura)\n",
        "    temperatura = temperaturas.append(float(input(\"Digite a temperatura: \")))\n",
        "    n_temperatura += 1\n",
        "\n",
        "print(\"Maior temperatura = \", max(temperaturas))\n",
        "print(\"Menor temperatura = \", min(temperaturas))\n",
        "print(\"Média = \", round(sum(temperaturas) / len(temperaturas), 2))"
      ],
      "metadata": {
        "id": "ed-taVUMBTdm"
      },
      "execution_count": null,
      "outputs": []
    },
    {
      "cell_type": "code",
      "source": [
        ""
      ],
      "metadata": {
        "id": "-WzMJvjUBTWC"
      },
      "execution_count": null,
      "outputs": []
    },
    {
      "cell_type": "markdown",
      "source": [
        "# 34 - Os números primos possuem várias aplicações dentro da Computação, por exemplo na Criptografia. Um número primo é aquele que é divisível apenas por um e por ele mesmo. Faça um programa que peça um número inteiro e determine se ele é ou não um número primo."
      ],
      "metadata": {
        "id": "qWniGv63U8tZ"
      }
    },
    {
      "cell_type": "code",
      "source": [
        "\n",
        "\n",
        "numero = int(input(\"\\nDigite um número: \"))\n",
        "\n",
        "if numero % 2 == 0 and numero != 2:\n",
        "    print(\"não primo\")\n",
        "else:\n",
        "    print(\"primo\")"
      ],
      "metadata": {
        "colab": {
          "base_uri": "https://localhost:8080/"
        },
        "id": "mT1fJsDHBTPs",
        "outputId": "533c073c-36e7-4861-e208-b583c9c0bd76"
      },
      "execution_count": 52,
      "outputs": [
        {
          "output_type": "stream",
          "name": "stdout",
          "text": [
            "\n",
            "Digite um número: 2\n",
            "primo\n"
          ]
        }
      ]
    },
    {
      "cell_type": "markdown",
      "source": [
        "# 35 - Encontrar números primos é uma tarefa difícil. Faça um programa que gera uma lista dos números primos existentes entre 1 e um número inteiro informado pelo usuário."
      ],
      "metadata": {
        "id": "ux9pCiTZVE06"
      }
    },
    {
      "cell_type": "code",
      "source": [
        "numero = int(input(\"\\nDigite um número: \"))\n",
        "lista = []\n",
        "\n",
        "for i in range(numero + 1):\n",
        "    if i % 2 == 1 and i != 2:\n",
        "        lista.append(i)\n",
        "\n",
        "print(\"Números primos: \", lista)"
      ],
      "metadata": {
        "id": "fTpRuVtEBTJ3"
      },
      "execution_count": null,
      "outputs": []
    },
    {
      "cell_type": "markdown",
      "source": [
        "# 36 - Desenvolva um programa que faça a tabuada de um número qualquer inteiro que será digitado pelo usuário, mas a tabuada não deve necessariamente iniciar em 1 e terminar em 10, o valor inicial e final devem ser informados também pelo usuário, conforme exemplo abaixo:\n",
        "\n",
        "#Montar a tabuada de: 5\n",
        "#Começar por: 4\n",
        "#Terminar em: 7\n",
        "\n",
        "#Vou montar a tabuada de 5 começando em 4 e terminando em 7:\n",
        "#5 X 4 = 20\n",
        "#5 X 5 = 25\n",
        "#5 X 6 = 30\n",
        "#5 X 7 = 35\n",
        "\n",
        "#Obs: Você deve verificar se o usuário não digitou o final menor que o inicial."
      ],
      "metadata": {
        "id": "W2TMvz9BWCoS"
      }
    },
    {
      "cell_type": "code",
      "source": [
        "\n",
        "n_tabuada = int(input(\"\\nDigite o número para fazer a tabuada: \"))\n",
        "n_inicial = int(input(\"Iniciar a tabuada no : \"))\n",
        "n_final = int(input(\"Finalizar a tabuada no : \"))\n",
        "\n",
        "caminho = n_inicial\n",
        "\n",
        "for i in range(n_inicial, n_final + 1):\n",
        "    print(n_tabuada, \" X \", caminho, \" = \", n_tabuada * caminho)\n",
        "    caminho += 1"
      ],
      "metadata": {
        "colab": {
          "base_uri": "https://localhost:8080/"
        },
        "id": "14WjxGQDBTC-",
        "outputId": "c72bcec9-5aa4-4c2b-9efc-ec6a36f04e2c"
      },
      "execution_count": 53,
      "outputs": [
        {
          "output_type": "stream",
          "name": "stdout",
          "text": [
            "\n",
            "Digite o número para fazer a tabuada: 3\n",
            "Iniciar a tabuada no : 9\n",
            "Finalizar a tabuada no : 10\n",
            "3  X  9  =  27\n",
            "3  X  10  =  30\n"
          ]
        }
      ]
    },
    {
      "cell_type": "code",
      "source": [
        ""
      ],
      "metadata": {
        "id": "OMA3qC-nBS9I"
      },
      "execution_count": null,
      "outputs": []
    },
    {
      "cell_type": "code",
      "source": [
        ""
      ],
      "metadata": {
        "id": "nyPiiIIuBSyy"
      },
      "execution_count": null,
      "outputs": []
    },
    {
      "cell_type": "markdown",
      "source": [
        "#37- Uma academia deseja fazer um senso entre seus clientes para descobrir o mais alto, o mais baixo, a mais gordo e o mais magro, para isto você deve fazer um programa que pergunte a cada um dos clientes da academia seu código, sua altura e seu peso. O final da digitação de dados deve ser dada quando o usuário digitar 0 (zero) no campo código. Ao encerrar o programa também deve ser informados os códigos e valores do clente mais alto, do mais baixo, do mais gordo e do mais magro, além da média das alturas e dos pesos dos clientes"
      ],
      "metadata": {
        "id": "kWNQTuz0XcpU"
      }
    },
    {
      "cell_type": "code",
      "source": [
        "cod_clientes = []\n",
        "altura_clientes = []\n",
        "peso_clientes = []\n",
        "n_cliente = 1\n",
        "codigo = True\n",
        "\n",
        "while codigo != 0:\n",
        "    print(\"\\nCliente n° \", n_cliente)\n",
        "    codigo = int(input(\"Digite o código: \"))\n",
        "    if codigo == 0:\n",
        "        break\n",
        "    else:\n",
        "        altura = float(input(\"Digite a altura: \"))\n",
        "        peso = float(input(\"Digite o peso: \"))\n",
        "        cod_clientes.append(codigo)\n",
        "        altura_clientes.append(altura)\n",
        "        peso_clientes.append(peso)\n",
        "        n_cliente += 1\n",
        "\n",
        "cod_magro = peso_clientes.index(min(peso_clientes))\n",
        "cod_gordo = peso_clientes.index(max(peso_clientes))\n",
        "cod_alto = altura_clientes.index(max(altura_clientes))\n",
        "cod_baixo = altura_clientes.index(min(altura_clientes))\n",
        "print(\"\\n\" * 5)\n",
        "print(\"Código do mais magro: \", cod_clientes[cod_magro])\n",
        "print(\"Código do mais gordo: \", cod_clientes[cod_gordo])\n",
        "print(\"Código do mais alto: \", cod_clientes[cod_alto])\n",
        "print(\"Código do mais baixo: \", cod_clientes[cod_baixo])\n",
        "print(\"Média de altura: \", sum(altura_clientes) / len(altura_clientes))\n",
        "print(\"Média de peso: \", sum(peso_clientes) / len(peso_clientes))"
      ],
      "metadata": {
        "id": "Rxc8cO4fXolZ"
      },
      "execution_count": null,
      "outputs": []
    },
    {
      "cell_type": "code",
      "source": [
        ""
      ],
      "metadata": {
        "id": "lgrUvZo9Xodj"
      },
      "execution_count": null,
      "outputs": []
    },
    {
      "cell_type": "markdown",
      "source": [
        "# 38- Um funcionário de uma empresa recebe aumento salarial anualmente: Sabe-se que:Esse funcionário foi contratado em 1995, com salário inicial de R$ 1.000,00;\n",
        "\n",
        "#Em 1996 recebeu aumento de 1,5% sobre seu salário inicial;\n",
        "#A partir de 1997 (inclusive), os aumentos salariais sempre correspondem ao dobro do percentual do ano anterior. Faça um programa que determine o salário atual desse funcionário. Após concluir isto, altere o programa permitindo que o usuário digite o salário inicial do funcionário."
      ],
      "metadata": {
        "id": "wMsZQgI5XdI5"
      }
    },
    {
      "cell_type": "code",
      "source": [
        "salario = float(input(\"Dgite o salario inicial do funcionario: \"))\n",
        "aumento = 1.5\n",
        "\n",
        "for i in range(1996, 2018 + 1):\n",
        "    aumento = aumento * 2\n",
        "    salario_atual = salario + (salario * (aumento / 100))\n",
        "    print(\"Salario em \", i, \" = \", salario_atual)"
      ],
      "metadata": {
        "id": "PB1dhAIMYKdY"
      },
      "execution_count": null,
      "outputs": []
    },
    {
      "cell_type": "code",
      "source": [
        ""
      ],
      "metadata": {
        "id": "S0nmRBEfYKT-"
      },
      "execution_count": null,
      "outputs": []
    },
    {
      "cell_type": "code",
      "source": [
        ""
      ],
      "metadata": {
        "id": "ejA1ymd-YKK8"
      },
      "execution_count": null,
      "outputs": []
    },
    {
      "cell_type": "markdown",
      "source": [
        "# 39- Faça um programa que leia dez conjuntos de dois valores, o primeiro representando o número do aluno e o segundo representando a sua altura em centímetros. Encontre o aluno mais alto e o mais baixo. Mostre o número do aluno mais alto e o número do aluno mais baixo, junto com suas alturas"
      ],
      "metadata": {
        "id": "jXeil-H6Xc6E"
      }
    },
    {
      "cell_type": "code",
      "source": [
        "numero_alunos = []\n",
        "altura_alunos = []\n",
        "\n",
        "for i in range(10):\n",
        "    print(\"\\nDigitação número \", i + 1,\" :\")\n",
        "    n_aluno = int(input(\"Digite o número do aluno: \"))\n",
        "    while n_aluno in numero_alunos:\n",
        "        print(\"[Este número ja foi digitado]\")\n",
        "        n_aluno = int(input(\"Digite outro número: \"))\n",
        "    a_aluno = altura_alunos.append(float(input(\"Digite a altura do aluno: \")))\n",
        "    numero_alunos.append(n_aluno)\n",
        "\n",
        "indice_baixo = altura_alunos.index(min(altura_alunos))\n",
        "indice_alto = altura_alunos.index(max(altura_alunos))\n",
        "\n",
        "print(\"Aluno mais baixo \\nNúmero: \", numero_alunos[indice_baixo], \"\\nAltura: \", min(altura_alunos))\n",
        "print(\"Aluno mais alto \\nNúmero: \", numero_alunos[indice_alto], \"\\nAltura: \", max(altura_alunos))"
      ],
      "metadata": {
        "id": "YJ40WJjzYMcn"
      },
      "execution_count": null,
      "outputs": []
    },
    {
      "cell_type": "code",
      "source": [
        ""
      ],
      "metadata": {
        "id": "632qjojeYMKe"
      },
      "execution_count": null,
      "outputs": []
    },
    {
      "cell_type": "markdown",
      "source": [
        "# 40- Foi feita uma estatística em cinco cidades brasileiras para coletar dados sobre acidentes de trânsito. Foram obtidos os seguintes dados:\n",
        "\n",
        "#Código da cidade;\n",
        "#Número de veículos de passeio (em 1999);\n",
        "#Número de acidentes de trânsito com vítimas (em 1999). Deseja-se saber:\n",
        "#Qual o maior e menor índice de acidentes de transito e a que cidade pertence;\n",
        "#Qual a média de veículos nas cinco cidades juntas;\n",
        "#Qual a média de acidentes de trânsito nas cidades com menos de 2.000 veículos de passeio"
      ],
      "metadata": {
        "id": "DM-K05_6XcW7"
      }
    },
    {
      "cell_type": "code",
      "source": [
        "cod_cidades = []\n",
        "n_veiculos = []\n",
        "n_acidentes = []\n",
        "acidentes_2000 = []\n",
        "\n",
        "for i in range(5):\n",
        "    print(\"\\nCidade número \", i + 1)\n",
        "    codigo_cidade = int(input(\"Digite o código da cidade: \"))\n",
        "    while codigo_cidade in cod_cidades:\n",
        "        print(\"[Código já digitado]\")\n",
        "        codigo_cidade = int(input(\"Digite outro código: \"))\n",
        "\n",
        "    numero_acidentes = int(input(\"Digite o número de acidentes: \"))\n",
        "    numero_veiculos = int(input(\"Digite o número de veiculos: \"))\n",
        "\n",
        "    if numero_veiculos > 2000:\n",
        "        acidentes_2000.append(numero_acidentes)\n",
        "        n_acidentes.append(numero_acidentes)\n",
        "    else:\n",
        "        n_acidentes.append(numero_acidentes)\n",
        "\n",
        "    n_veiculos.append(numero_veiculos)\n",
        "    cod_cidades.append(codigo_cidade)\n",
        "\n",
        "indice_acidentes_menor = n_acidentes.index(min(n_acidentes))\n",
        "indice_acidentes_maior = n_acidentes.index(max(n_acidentes))\n",
        "\n",
        "print(\"\\nMenos acidentes\\nQuantidade de acidentes: \", min(n_acidentes), \"\\nCódigo da cidade: \", cod_cidades[indice_acidentes_menor])\n",
        "print(\"\\nMais acidentes\\nQuantidade de acidentes: \", max(n_acidentes), \"\\nCódigo da cidade: \", cod_cidades[indice_acidentes_maior])\n",
        "\n",
        "media_veiculos = sum(n_veiculos) / len(n_veiculos)\n",
        "print(\"\\nMédia de veiculos nas 5 cidades: \", media_veiculos)\n",
        "\n",
        "media_acidentes_2000 = sum(acidentes_2000) / len(acidentes_2000)\n",
        "print(\"\\nMédia de acidentes nas cidades com menos de 2000 veículos: \", media_acidentes_2000)"
      ],
      "metadata": {
        "id": "zWfmeGPxBSlV"
      },
      "execution_count": null,
      "outputs": []
    },
    {
      "cell_type": "code",
      "source": [
        ""
      ],
      "metadata": {
        "id": "Ukj8TozKBSfA"
      },
      "execution_count": null,
      "outputs": []
    },
    {
      "cell_type": "code",
      "source": [
        ""
      ],
      "metadata": {
        "id": "Hm6s552oY0wR"
      },
      "execution_count": null,
      "outputs": []
    },
    {
      "cell_type": "markdown",
      "source": [
        "#41- Faça um programa que receba o valor de uma dívida e mostre uma tabela com os seguintes dados: valor da dívida, valor dos juros, quantidade de parcelas e valor da parcela.\n",
        "#Os juros e a quantidade de parcelas seguem a tabela abaixo:\n",
        "#Quantidade de Parcelas  % de Juros sobre o valor inicial da dívida\n",
        "#1  -     0\n",
        "#3  -    10\n",
        "#6  -     15\n",
        "#9  -     20\n",
        "#12 -     25\n",
        "\n",
        "#Exemplo de saída do programa:\n",
        "#Valor da Dívida Valor dos Juros Quantidade de Parcelas  Valor da Parcela\n",
        "\n",
        "#R$ 1.000,00     0               1                       R$  1.000,00\n",
        "#R$ 1.100,00     100             3                       R$    366,00\n",
        "#R$ 1.150,00     150             6                       R$    191,67"
      ],
      "metadata": {
        "id": "7-ERScwMZDoi"
      }
    },
    {
      "cell_type": "code",
      "source": [
        "print(\"\\n\" * 5)\n",
        "divida = float(input(\"Digite o valor da divida: \"))\n",
        "parcela = 1\n",
        "print(\"\\n\" * 5)\n",
        "print(\"Valor da divida: \", end=\"  \")\n",
        "print(\"Valor do juros: \", end=\"  \")\n",
        "print(\"Quantidade de parcelas: \", end=\"  \")\n",
        "print(\"Valor da parcela: \")\n",
        "\n",
        "for i in range(5):\n",
        "    if parcela == 1:\n",
        "        juros = 1\n",
        "        valor_juros = 0\n",
        "    elif parcela == 4:\n",
        "        parcela = 3\n",
        "        juros = 1.10\n",
        "    elif parcela == 7 or parcela == 6:\n",
        "        parcela = 6\n",
        "        juros = 1.15\n",
        "    elif parcela == 10 or parcela == 9:\n",
        "        parcela = 9\n",
        "        juros = 1.20\n",
        "    elif parcela == 13 or parcela == 12:\n",
        "        parcela = 12\n",
        "        juros = 1.25\n",
        "\n",
        "    valor_juros = divida * (juros - 1)\n",
        "    divida_com_juros = divida * juros\n",
        "    valor_parcela = divida_com_juros / parcela\n",
        "\n",
        "    print(\"R$\", round(divida_com_juros, 2), end=\"            \")\n",
        "    print(round(valor_juros, 2), end=\"                  \")\n",
        "    print(parcela, end=\"                        \")\n",
        "    print(\"R$ \", round(valor_parcela, 2))\n",
        "    parcela += 3"
      ],
      "metadata": {
        "colab": {
          "base_uri": "https://localhost:8080/"
        },
        "id": "zkPqTKSLY0mN",
        "outputId": "520672c9-ad18-4244-c5fb-900fad46bf5a"
      },
      "execution_count": 54,
      "outputs": [
        {
          "output_type": "stream",
          "name": "stdout",
          "text": [
            "\n",
            "\n",
            "\n",
            "\n",
            "\n",
            "\n",
            "Digite o valor da divida: 5000\n",
            "\n",
            "\n",
            "\n",
            "\n",
            "\n",
            "\n",
            "Valor da divida:   Valor do juros:   Quantidade de parcelas:   Valor da parcela: \n",
            "R$ 5000.0            0.0                  1                        R$  5000.0\n",
            "R$ 5500.0            500.0                  3                        R$  1833.33\n",
            "R$ 5750.0            750.0                  6                        R$  958.33\n",
            "R$ 6000.0            1000.0                  9                        R$  666.67\n",
            "R$ 6250.0            1250.0                  12                        R$  520.83\n"
          ]
        }
      ]
    },
    {
      "cell_type": "markdown",
      "source": [
        "# 42- Faça um programa que leia uma quantidade indeterminada de números positivos e conte quantos deles estão nos seguintes intervalos: [0-25], [26-50], [51-75] e [76-100]. A entrada de dados deverá terminar quando for lido um número negativo."
      ],
      "metadata": {
        "id": "zATZ7R7DZl1Y"
      }
    },
    {
      "cell_type": "code",
      "source": [
        "n25 = []\n",
        "n50 = []\n",
        "n75 = []\n",
        "n100 = []\n",
        "numero = True\n",
        "while numero > 0:\n",
        "    numero = float(input(\"Digite um número: \"))\n",
        "    if numero > 0 and numero <= 25:\n",
        "        n25.append(numero)\n",
        "    elif numero > 25 and numero <= 50:\n",
        "        n50.append(numero)\n",
        "    elif numero > 50 and numero <= 75:\n",
        "        n75.append(numero)\n",
        "    elif numero > 75 and numero <= 100:\n",
        "        n100.append(numero)\n",
        "\n",
        "print(\"\\n[0, 25]: \", len(n25))\n",
        "print(\"[26, 50]: \", len(n50))\n",
        "print(\"[51, 75]: \", len(n75))\n",
        "print(\"[76, 100]: \", len(n100))"
      ],
      "metadata": {
        "id": "Prjr6UIVaWcZ"
      },
      "execution_count": null,
      "outputs": []
    },
    {
      "cell_type": "code",
      "source": [
        ""
      ],
      "metadata": {
        "id": "7qplp6IqaWT-"
      },
      "execution_count": null,
      "outputs": []
    },
    {
      "cell_type": "code",
      "source": [
        ""
      ],
      "metadata": {
        "id": "pxuLtGXGaWFz"
      },
      "execution_count": null,
      "outputs": []
    },
    {
      "cell_type": "markdown",
      "source": [
        "# 43 - O cardápio de uma lanchonete é o seguinte:\n",
        "\n",
        "#Especificação  - Código - Preço\n",
        "\n",
        "#Cachorro Quente -100  -   R$ 1,20\n",
        "\n",
        "#Bauru Simples  - 101  -   R$ 1,30\n",
        "\n",
        "#Bauru com ovo  - 102  -   R$ 1,50\n",
        "\n",
        "#Hambúrguer    -  103  -   R$ 1,20\n",
        "\n",
        "#Cheeseburguer  - 104   -  R$ 1,30\n",
        "\n",
        "#Refrigerante   - 105   -  R$ 1,00\n",
        "\n",
        "#Faça um programa que leia o código dos itens pedidos e as quantidades desejadas. Calcule e mostre o valor a ser pago por item (preço * quantidade) e o total geral do pedido. Considere que o cliente deve informar quando o pedido deve ser encerrado.\n"
      ],
      "metadata": {
        "id": "whrHoDiXZlrT"
      }
    },
    {
      "cell_type": "code",
      "source": [
        "\n",
        "codigos = [100, 101, 102, 103, 104, 105]\n",
        "comidas = ['Cachorro Quente', 'Bauru Simples', 'Bauru com ovo', 'Hamburguer', 'ChesseBurguer', 'Refrigerante']\n",
        "precos = [1.20, 1.30, 1.50, 1.20, 1.30, 1.0]\n",
        "codigo = True\n",
        "n_pedido = 1\n",
        "pedido = []\n",
        "\n",
        "while codigo != 0:\n",
        "    print(\"\\nPedido n°\", n_pedido)\n",
        "    codigo = int(input(\"Digite o código do alimento: \"))\n",
        "    if codigo == 0:\n",
        "        break\n",
        "    else:\n",
        "        while codigo not in codigos:\n",
        "            print(\"[Este código não corresponde a nenhum alimento.]\")\n",
        "            codigo = int(input(\"Digite o código do alimento: \"))\n",
        "\n",
        "        indice = codigos.index(codigo)\n",
        "        quantidade = int(input(\"Digite a quantidade: \"))\n",
        "        valor_pedido = precos[indice] * quantidade\n",
        "        pedido.append(valor_pedido)\n",
        "    n_pedido += 1\n",
        "\n",
        "pedido_nota = 0\n",
        "print(\"\\n\" * 2)\n",
        "for i in range(n_pedido - 1):\n",
        "    print(\"Pedido n°\", pedido_nota + 1, \"= R$\", round(pedido[pedido_nota], 2))\n",
        "    pedido_nota += 1\n",
        "print(\"Total: R$\", round(sum(pedido), 2))"
      ],
      "metadata": {
        "colab": {
          "base_uri": "https://localhost:8080/"
        },
        "id": "_H8tIhaYaUca",
        "outputId": "91e98138-8190-4eb5-8c14-33f774b8c7fe"
      },
      "execution_count": null,
      "outputs": [
        {
          "metadata": {
            "tags": null
          },
          "name": "stdout",
          "output_type": "stream",
          "text": [
            "\n",
            "Pedido n° 1\n",
            "[Este código não corresponde a nenhum alimento.]\n",
            "[Este código não corresponde a nenhum alimento.]\n",
            "\n",
            "Pedido n° 2\n"
          ]
        }
      ]
    },
    {
      "cell_type": "code",
      "source": [
        ""
      ],
      "metadata": {
        "id": "UN_RG_K-aUQK"
      },
      "execution_count": null,
      "outputs": []
    },
    {
      "cell_type": "code",
      "source": [
        ""
      ],
      "metadata": {
        "id": "MvAhpxX2aTtV"
      },
      "execution_count": null,
      "outputs": []
    },
    {
      "cell_type": "markdown",
      "source": [
        "# 44 - Em uma eleição presidencial existem quatro candidatos. Os votos são informados por meio de código. Os códigos utilizados são:\n",
        "\n",
        "1 , 2, 3, 4  - Votos para os respectivos candidatos \n",
        "(você deve montar a tabela ex: 1 - Jose/ 2- João/etc)\n",
        "\n",
        "5 - Voto Nulo\n",
        "\n",
        "6 - Voto em Branco\n",
        "Faça um programa que calcule e mostre:\n",
        "\n",
        "O total de votos para cada candidato;\n",
        "\n",
        "O total de votos nulos;\n",
        "\n",
        "O total de votos em branco;\n",
        "\n",
        "A percentagem de votos nulos sobre o total de votos;\n",
        "\n",
        "A percentagem de votos em branco sobre o total de votos. Para finalizar o conjunto de votos tem-se o valor zero."
      ],
      "metadata": {
        "id": "FTC5trtkZlhk"
      }
    },
    {
      "cell_type": "code",
      "source": [
        "possiveis_votos = [1, 2, 3, 4, 5, 6]\n",
        "candidatos = ['Ciro Gomes', 'Jair Bolsonaro', 'João Amoedo', 'Lula Molusco', 'Nulo', 'Branco']\n",
        "votos = []\n",
        "\n",
        "voto = True\n",
        "n_votos = 1\n",
        "while voto != 0:\n",
        "    print(\"Voto n°\", n_votos)\n",
        "    voto = int(input(\"Digite o seu voto: \"))\n",
        "    if voto == 0:\n",
        "        break\n",
        "    else:\n",
        "        while voto not in possiveis_votos:\n",
        "            print(\"[Voto invalido.]\")\n",
        "            voto = int(input(\"Digite o seu voto: \"))\n",
        "        votos.append(voto)\n",
        "    n_votos += 1\n",
        "\n",
        "contador = 0\n",
        "print(\"\\n\" * 2)\n",
        "for i in range(len(candidatos)):\n",
        "    print(\"Votos para \", candidatos[contador], end=\" : \")\n",
        "    if votos.count == 0:\n",
        "        print(\"0\")\n",
        "        contador += 1\n",
        "    else:\n",
        "        print(votos.count(contador + 1))\n",
        "        contador += 1\n",
        "\n",
        "porcentagem_nulo = (votos.count(5) / len(votos)) * 100\n",
        "porcentagem_branco = (votos.count(6) / len(votos)) * 100\n",
        "print(\"\\nPorcentagem Nulos: \", round(porcentagem_nulo, 2), \"%\\nPorcentagem Brancos: \", round(porcentagem_branco, 2),\"%\")"
      ],
      "metadata": {
        "id": "hXXv-cMaaT73"
      },
      "execution_count": null,
      "outputs": []
    },
    {
      "cell_type": "code",
      "source": [
        ""
      ],
      "metadata": {
        "id": "hyMgKnItY0e_"
      },
      "execution_count": null,
      "outputs": []
    },
    {
      "cell_type": "markdown",
      "source": [
        "# 45 - Desenvolver um programa para verificar a nota do aluno em uma prova com 10 questões, o programa deve perguntar ao aluno a resposta de cada questão e ao final comparar com o gabarito da prova e assim calcular o total de acertos e a nota (atribuir 1 ponto por resposta certa). Após cada aluno utilizar o sistema deve ser feita uma pergunta se outro aluno vai utilizar o sistema. Após todos os alunos terem respondido informar:\n",
        "\n",
        "Maior e Menor Acerto;\n",
        "Total de Alunos que utilizaram o sistema;\n",
        "A Média das Notas da Turma.\n",
        "Gabarito da Prova:\n",
        "\n",
        "01 - A\n",
        "\n",
        "02 - B\n",
        "\n",
        "03 - C\n",
        "\n",
        "04 - D\n",
        "\n",
        "05 - E\n",
        "\n",
        "06 - E\n",
        "\n",
        "07 - D\n",
        "\n",
        "08 - C\n",
        "\n",
        "09 - B\n",
        "\n",
        "10 - A\n",
        "\n",
        "Após concluir isto você poderia incrementar o programa permitindo que o professor digite o gabarito da prova antes dos alunos usarem o programa."
      ],
      "metadata": {
        "id": "-19fYD0le2Ki"
      }
    },
    {
      "cell_type": "code",
      "source": [
        "\n",
        "gabarito = []\n",
        "respostas_aluno = []\n",
        "notas_tiradas = []\n",
        "print(\"\\nProfessor: \")\n",
        "for i in range(10):\n",
        "    print(\"Questão: \", i + 1)\n",
        "    resposta_certa = gabarito.append(input(\"Digite a alternativa correta: \"))\n",
        "n_aluno = 1\n",
        "continuar = True\n",
        "while continuar != 'n':\n",
        "    print(\"\\n\" * 5)\n",
        "    print(\"Aluno n°\", n_aluno, \":\")\n",
        "    respostas_aluno.clear()\n",
        "    for i in range(10):\n",
        "        print(\"Questão: \", i + 1)\n",
        "        resposta_aluno = respostas_aluno.append(input(\"Escolha a alternativa: \"))\n",
        "    nota = 0\n",
        "    for i in range(10):\n",
        "        if respostas_aluno[i] == gabarito[i]:\n",
        "            nota += 1\n",
        "    notas_tiradas.append(nota)\n",
        "    continuar = input(\"Outro aluno vai utilizar o sistema? [s/n] : \")\n",
        "    n_aluno += 1\n",
        "print(len(notas_tiradas), \"alunos utilizaram o sistema\")\n",
        "print(\"\\nA maior nota tirada foi: \", max(notas_tiradas))\n",
        "print(\"A menor nota tirada foi: \", min(notas_tiradas))\n",
        "print(\"A media de notas da turma foi de:\", sum(notas_tiradas) / len(notas_tiradas))\n",
        "print(notas_tiradas)"
      ],
      "metadata": {
        "id": "SKN31j2wqhAr"
      },
      "execution_count": null,
      "outputs": []
    },
    {
      "cell_type": "code",
      "source": [
        ""
      ],
      "metadata": {
        "id": "93880UP1qgwu"
      },
      "execution_count": null,
      "outputs": []
    },
    {
      "cell_type": "markdown",
      "source": [
        "# 46 - Em uma competição de salto em distância cada atleta tem direito a cinco saltos. No final da série de saltos de cada atleta, o melhor e o pior resultados são eliminados. O seu resultado fica sendo a média dos três valores restantes. Você deve fazer um programa que receba o nome e as cinco distâncias alcançadas pelo atleta em seus saltos e depois informe a média dos saltos conforme a descrição acima informada (retirar o melhor e o pior salto e depois calcular a média). Faça uso de uma lista para armazenar os saltos. Os saltos são informados na ordem da execução, portanto não são ordenados. O programa deve ser encerrado quando não for informado o nome do atleta. A saída do programa deve ser conforme o exemplo abaixo:\n",
        "\n",
        "Atleta: Rodrigo Curvêllo\n",
        "\n",
        "Primeiro Salto: 6.5 m\n",
        "\n",
        "Segundo Salto: 6.1 m\n",
        "\n",
        "Terceiro Salto: 6.2 m\n",
        "\n",
        "Quarto Salto: 5.4 m\n",
        "\n",
        "Quinto Salto: 5.3 m\n",
        "\n",
        "Melhor salto:  6.5 m\n",
        "\n",
        "Pior salto: 5.3 m\n",
        "\n",
        "Média dos demais saltos: 5.9 m\n",
        "\n",
        "Resultado final:\n",
        "\n",
        "Rodrigo Curvêllo: 5.9 m"
      ],
      "metadata": {
        "id": "Y-tK-PDYe1pQ"
      }
    },
    {
      "cell_type": "code",
      "source": [
        "\n",
        "nome_atleta = True\n",
        "n_atleta = 1\n",
        "while nome_atleta != '':\n",
        "    saltos = []\n",
        "    print(\"\\n\" * 5)\n",
        "    print(\"Atleta n°\", n_atleta)\n",
        "    nome_atleta = input(\"Digite o nome do atleta: \")\n",
        "    if nome_atleta == '':\n",
        "        break\n",
        "    else:\n",
        "        n_salto = 1\n",
        "        print(\"\\n\" * 3)\n",
        "        for i in range(5):\n",
        "            print(\"Salto n° \", n_salto)\n",
        "            distancia_salto = float(input(\"Digite a distancia do salto: \"))\n",
        "            saltos.append(distancia_salto)\n",
        "            n_salto += 1\n",
        "        print(\"Atleta: \", nome_atleta)\n",
        "        n_salto = 1\n",
        "        count = 0\n",
        "        for i in range(5):\n",
        "            print(n_salto, \"° salto : \", saltos[count],\" m\")\n",
        "            n_salto += 1\n",
        "            count += 1\n",
        "        print(\"Melhor salto: \", max(saltos), \" m\")\n",
        "        print(\"Pior salto: \", min(saltos), \" m\")\n",
        "\n",
        "        saltos.remove(max(saltos))\n",
        "        saltos.remove(min(saltos))\n",
        "        media = sum(saltos) / len(saltos)\n",
        "        print(\"Media dos demais saltos: \", round(media, 2))\n",
        "        print(\"Resultado Final: \\n\", nome_atleta, \" : \", round(media, 2))\n",
        "        n_atleta += 1"
      ],
      "metadata": {
        "id": "Nu3-lD3_qqZ0"
      },
      "execution_count": null,
      "outputs": []
    },
    {
      "cell_type": "code",
      "source": [
        ""
      ],
      "metadata": {
        "id": "WcRslkpNfmXw"
      },
      "execution_count": null,
      "outputs": []
    },
    {
      "cell_type": "markdown",
      "source": [
        "# 47 - Em uma competição de ginástica, cada atleta recebe votos de sete jurados. A melhor e a pior nota são eliminadas. A sua nota fica sendo a média dos votos restantes. Você deve fazer um programa que receba o nome do ginasta e as notas dos sete jurados alcançadas pelo atleta em sua apresentação e depois informe a sua média, conforme a descrição acima informada (retirar o melhor e o pior salto e depois calcular a média com as notas restantes). As notas não são informados ordenadas. Um exemplo de saída do programa deve ser conforme o exemplo abaixo:\n",
        "\n",
        "#Atleta: Aparecido Parente\n",
        "#Nota: 9.9\n",
        "#Nota: 7.5\n",
        "#Nota: 9.5\n",
        "#Nota: 8.5\n",
        "#Nota: 9.0\n",
        "#Nota: 8.5\n",
        "#Nota: 9.7\n",
        "\n",
        "#Resultado final:\n",
        "#Atleta: Aparecido Parente\n",
        "#Melhor nota: 9.9\n",
        "#Pior nota: 7.5\n",
        "#Média: 9,04"
      ],
      "metadata": {
        "id": "rlIY_Ts8e1XP"
      }
    },
    {
      "cell_type": "code",
      "source": [
        "import time\n",
        "nome_atleta = True\n",
        "n_atleta = 1\n",
        "while nome_atleta != '':\n",
        "    notas = []\n",
        "    print(\"\\n\" * 5)\n",
        "    print(\"Atleta n°\", n_atleta)\n",
        "    nome_atleta = input(\"Digite o nome do atleta: \")\n",
        "    if nome_atleta == '':\n",
        "        break\n",
        "    else:\n",
        "        n_jurado = 1\n",
        "        print(\"\\n\" * 3)\n",
        "        for i in range(7):\n",
        "            print(\"Jurado n° \", n_jurado)\n",
        "            nota = float(input(\"Digite a nota: \"))\n",
        "            notas.append(nota)\n",
        "            n_jurado += 1\n",
        "        print(\"Atleta: \", nome_atleta)\n",
        "        n_jurado = 1\n",
        "        count = 0\n",
        "        for i in range(7):\n",
        "            print(n_jurado, \"° Jurado : \", notas[count])\n",
        "            n_jurado += 1\n",
        "            count += 1\n",
        "        print(\"Resultado Final:\")\n",
        "        print(\"Nome do atleta: \", nome_atleta)\n",
        "        print(\"Melhor nota: \", max(notas))\n",
        "        print(\"Pior nota: \", min(notas))\n",
        "        notas.remove(max(notas))\n",
        "        notas.remove(min(notas))\n",
        "        media = sum(notas) / len(notas)\n",
        "        print(\"Media: \", round(media, 2))\n",
        "        n_atleta += 1\n",
        "        print(\"Reiniciando em 5 segundos\")\n",
        "        time.sleep(5)"
      ],
      "metadata": {
        "id": "C2ivju_AqyaW"
      },
      "execution_count": null,
      "outputs": []
    },
    {
      "cell_type": "code",
      "source": [
        ""
      ],
      "metadata": {
        "id": "8zkD-AiMqyRL"
      },
      "execution_count": null,
      "outputs": []
    },
    {
      "cell_type": "markdown",
      "source": [
        "# 48 - Faça um programa que peça um numero inteiro positivo e em seguida mostre este numero invertido.\n",
        "\n",
        "Exemplo:\n",
        "\n",
        "  12376489\n",
        "  => 98467321"
      ],
      "metadata": {
        "id": "pL5sE-iMe1L1"
      }
    },
    {
      "cell_type": "code",
      "source": [
        "numero = input(\"Digite um número: \")\n",
        "print(\"Número invertido: \", numero[:: -1])"
      ],
      "metadata": {
        "id": "d3_E0i5zhz-j"
      },
      "execution_count": null,
      "outputs": []
    },
    {
      "cell_type": "code",
      "source": [
        ""
      ],
      "metadata": {
        "id": "zgLuNbmDhzvN"
      },
      "execution_count": null,
      "outputs": []
    },
    {
      "cell_type": "markdown",
      "source": [
        "# 49 - Faça um programa que mostre os n termos da Série a seguir:\n",
        "  S = 1/1 + 2/3 + 3/5 + 4/7 + 5/9 + ... + n/m. \n",
        "\n",
        "  Imprima no final a soma da série."
      ],
      "metadata": {
        "id": "g-FBDaSOe0zV"
      }
    },
    {
      "cell_type": "code",
      "source": [
        "n1 = 1\n",
        "n2 = 1\n",
        "n1_lista = []\n",
        "n2_lista = []\n",
        "print(\"S = \", end = \"\")\n",
        "while n1 <= 10 -1:\n",
        "    print(n1, \"/\", n2, \" + \", end=\"\")\n",
        "    n1_lista.append(n1)\n",
        "    n2_lista.append(n2)\n",
        "    n1 += 1\n",
        "    n2 += 2\n",
        "\n",
        "print(n1, \"/\", n2, \" = \", sum(n1_lista), \"/\", sum(n2_lista))"
      ],
      "metadata": {
        "id": "C7SmEiC7h6ad"
      },
      "execution_count": null,
      "outputs": []
    },
    {
      "cell_type": "code",
      "source": [
        ""
      ],
      "metadata": {
        "id": "IceY-ZnvrRqQ"
      },
      "execution_count": null,
      "outputs": []
    },
    {
      "cell_type": "markdown",
      "source": [
        "# 50 - Sendo H= 1 + 1/2 + 1/3 + 1/4 + ... + 1/N, Faça um programa que calcule o valor de H com N termos."
      ],
      "metadata": {
        "id": "go1fqI9te0Jh"
      }
    },
    {
      "cell_type": "code",
      "source": [
        "h = 1\n",
        "n = 2\n",
        "h_lista = []\n",
        "n_lista = []\n",
        "print(\"H = 1 +\", end = \"\")\n",
        "while n <= 10 -1:\n",
        "    print(\" \",h, \"/\", n, \" + \", end=\"\")\n",
        "    h_lista.append(h)\n",
        "    n_lista.append(n)\n",
        "    n += 1\n",
        "\n",
        "print(h, \"/\", n, \" => \", sum(h_lista), \"/\", sum(n_lista), \" => \", round(sum(h_lista) / sum(n_lista)), 2)"
      ],
      "metadata": {
        "id": "PyKWv8xrrZTc"
      },
      "execution_count": null,
      "outputs": []
    },
    {
      "cell_type": "code",
      "source": [
        ""
      ],
      "metadata": {
        "id": "oczfHxz0Y0WM"
      },
      "execution_count": null,
      "outputs": []
    },
    {
      "cell_type": "markdown",
      "source": [
        "# 51 - Faça um programa que mostre os n termos da Série a seguir:\n",
        "  S = 1/1 + 2/3 + 3/5 + 4/7 + 5/9 + ... + n/m. \n",
        "Imprima no final a soma da série."
      ],
      "metadata": {
        "id": "yuIJYzdUh-4J"
      }
    },
    {
      "cell_type": "code",
      "source": [
        ""
      ],
      "metadata": {
        "id": "SlWMH4GYY0E7"
      },
      "execution_count": null,
      "outputs": []
    },
    {
      "cell_type": "code",
      "source": [
        "\n",
        "n1 = 1\n",
        "n2 = 1\n",
        "n1_lista = []\n",
        "n2_lista = []\n",
        "print(\"S = \", end = \"\")\n",
        "while n1 <= 10 -1:\n",
        "    print(n1, \"/\", n2, \" + \", end=\"\")\n",
        "    n1_lista.append(n1)\n",
        "    n2_lista.append(n2)\n",
        "    n1 += 1\n",
        "    n2 += 2\n",
        "\n",
        "print(n1, \"/\", n2, \" = \", sum(n1_lista), \"/\", sum(n2_lista))"
      ],
      "metadata": {
        "id": "djS3uJNtYz6P"
      },
      "execution_count": null,
      "outputs": []
    },
    {
      "cell_type": "code",
      "source": [
        ""
      ],
      "metadata": {
        "id": "nQNfUU0OYzpc"
      },
      "execution_count": null,
      "outputs": []
    },
    {
      "cell_type": "code",
      "source": [
        ""
      ],
      "metadata": {
        "id": "aVnyvzy4BSXY"
      },
      "execution_count": null,
      "outputs": []
    }
  ]
}